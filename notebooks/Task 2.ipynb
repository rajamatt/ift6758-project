{
 "cells": [
  {
   "cell_type": "code",
   "execution_count": 1,
   "metadata": {},
   "outputs": [],
   "source": [
    "\"\"\"USE JUPYTER LAB TO TEST THE CODE, The Jupyter Notebook Extension in VS Code is BUGGY \n",
    "and doesnt display nested widgets correctly\"\"\"\n",
    "from ift6758.visualizations.nhl_event_mapper import NHLEventMapper\n",
    "from ipywidgets import widgets"
   ]
  },
  {
   "cell_type": "code",
   "execution_count": 2,
   "metadata": {},
   "outputs": [
    {
     "data": {
      "application/vnd.jupyter.widget-view+json": {
       "model_id": "46e46781975d41b796c16713a634dc77",
       "version_major": 2,
       "version_minor": 0
      },
      "text/plain": [
       "interactive(children=(Dropdown(description='Season Type', options=('Regular season', 'Playoffs'), value='Regul…"
      ]
     },
     "metadata": {},
     "output_type": "display_data"
    },
    {
     "data": {
      "application/vnd.jupyter.widget-view+json": {
       "model_id": "c5c099f25cf4459eb2da892a0a0fb560",
       "version_major": 2,
       "version_minor": 0
      },
      "text/plain": [
       "Output()"
      ]
     },
     "metadata": {},
     "output_type": "display_data"
    },
    {
     "data": {
      "application/vnd.jupyter.widget-view+json": {
       "model_id": "fd7e265c55774d1380733d56001b8171",
       "version_major": 2,
       "version_minor": 0
      },
      "text/plain": [
       "Output()"
      ]
     },
     "metadata": {},
     "output_type": "display_data"
    },
    {
     "data": {
      "application/vnd.jupyter.widget-view+json": {
       "model_id": "cc0665672dc645afa88ad1c22ac92b85",
       "version_major": 2,
       "version_minor": 0
      },
      "text/plain": [
       "Output()"
      ]
     },
     "metadata": {},
     "output_type": "display_data"
    }
   ],
   "source": [
    "season_type_selector = widgets.Dropdown(options=['Regular season', 'Playoffs'], description='Season Type')\n",
    "season_input = widgets.IntSlider(min=2016, max=2023, description='Season')\n",
    "\n",
    "event_mapper = NHLEventMapper()\n",
    "widgets.interact(event_mapper.update_widgets, season_type=season_type_selector, season=season_input)\n",
    "\n",
    "display(event_mapper.get_general_output())\n",
    "display(event_mapper.get_game_info_output())\n",
    "display(event_mapper.get_event_output())"
   ]
  },
  {
   "cell_type": "code",
   "execution_count": 6,
   "metadata": {},
   "outputs": [],
   "source": [
    "event_mapper.summary_regular_season(2019,1)\n"
   ]
  }
 ],
 "metadata": {
  "kernelspec": {
   "display_name": "Python 3",
   "language": "python",
   "name": "python3"
  },
  "language_info": {
   "codemirror_mode": {
    "name": "ipython",
    "version": 3
   },
   "file_extension": ".py",
   "mimetype": "text/x-python",
   "name": "python",
   "nbconvert_exporter": "python",
   "pygments_lexer": "ipython3",
   "version": "3.11.7"
  }
 },
 "nbformat": 4,
 "nbformat_minor": 4
}
