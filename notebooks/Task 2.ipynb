{
 "cells": [
  {
   "cell_type": "markdown",
   "metadata": {},
   "source": [
    "# Task 2 - Interactive Debugging Tool\n",
    "\n",
    "For this task we want to build an interactive tool using `ipywidgets` that we can use to display play-by-play events of a given NHL game. All we need to import is the `NHLEventMapper` class, along with the _widgets_ module from `ipywidgets`."
   ]
  },
  {
   "cell_type": "code",
   "execution_count": 2,
   "metadata": {},
   "outputs": [],
   "source": [
    "from ift6758.visualizations.nhl_event_mapper import NHLEventMapper\n",
    "from ipywidgets import widgets"
   ]
  },
  {
   "cell_type": "markdown",
   "metadata": {},
   "source": [
    "The `NHLEventMapper` hosts three different outputs that we can display:\n",
    "1) A general output that contains all sorts of widgets that let us decide the season type, season year, game number and more. \n",
    "2) A game information output, containing the date, venue, teams and final score of the NHL game. \n",
    "3) An event output which contains all the important information about the play-by-play event that is currently being shown.\n",
    "\n",
    "Changing the season type to \"playoffs\" will present dynamic options like the round and matchup numbers."
   ]
  },
  {
   "cell_type": "code",
   "execution_count": 3,
   "metadata": {},
   "outputs": [
    {
     "data": {
      "application/vnd.jupyter.widget-view+json": {
       "model_id": "3c48df1af6fd47e59713833bd93a4ad7",
       "version_major": 2,
       "version_minor": 0
      },
      "text/plain": [
       "interactive(children=(Dropdown(description='Season Type', options=('Regular season', 'Playoffs'), value='Regul…"
      ]
     },
     "metadata": {},
     "output_type": "display_data"
    },
    {
     "data": {
      "application/vnd.jupyter.widget-view+json": {
       "model_id": "7a120b30d5a94d95913226b4134ecc7a",
       "version_major": 2,
       "version_minor": 0
      },
      "text/plain": [
       "Output()"
      ]
     },
     "metadata": {},
     "output_type": "display_data"
    },
    {
     "data": {
      "application/vnd.jupyter.widget-view+json": {
       "model_id": "c902d372c4434371afd1c79f11599d85",
       "version_major": 2,
       "version_minor": 0
      },
      "text/plain": [
       "Output()"
      ]
     },
     "metadata": {},
     "output_type": "display_data"
    },
    {
     "data": {
      "application/vnd.jupyter.widget-view+json": {
       "model_id": "c7ec7523db9c4f068f7e5e1010fa106b",
       "version_major": 2,
       "version_minor": 0
      },
      "text/plain": [
       "Output()"
      ]
     },
     "metadata": {},
     "output_type": "display_data"
    }
   ],
   "source": [
    "event_mapper = NHLEventMapper()\n",
    "season_type_selector = widgets.Dropdown(options=['Regular season', 'Playoffs'], description='Season Type')\n",
    "season_input = widgets.IntSlider(min=2016, max=2023, description='Season')\n",
    "widgets.interact(event_mapper.update_widgets, season_type=season_type_selector, season=season_input)\n",
    "\n",
    "display(event_mapper.get_general_output())\n",
    "display(event_mapper.get_game_info_output())\n",
    "display(event_mapper.get_event_output())"
   ]
  }
 ],
 "metadata": {
  "kernelspec": {
   "display_name": "Python 3",
   "language": "python",
   "name": "python3"
  },
  "language_info": {
   "codemirror_mode": {
    "name": "ipython",
    "version": 3
   },
   "file_extension": ".py",
   "mimetype": "text/x-python",
   "name": "python",
   "nbconvert_exporter": "python",
   "pygments_lexer": "ipython3",
   "version": "3.11.7"
  }
 },
 "nbformat": 4,
 "nbformat_minor": 4
}
