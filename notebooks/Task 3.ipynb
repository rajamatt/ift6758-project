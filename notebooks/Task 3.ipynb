{
 "cells": [
  {
   "cell_type": "code",
   "execution_count": 1,
   "metadata": {},
   "outputs": [],
   "source": [
    "#Import Stuff\n",
    "\n",
    "from ift6758.data.nhl_data_parser import NHLDataParser\n",
    "import matplotlib.pyplot as plt\n",
    "import seaborn as sns\n",
    "import pandas as pd\n",
    "import numpy as np\n",
    "from ift6758.visualizations.nhl_stats import NHLStats\n",
    "from ipywidgets import widgets\n",
    "season_range = [2016,2017,2018,2019,2020,2021,2022,2023]"
   ]
  },
  {
   "cell_type": "code",
   "execution_count": 2,
   "metadata": {},
   "outputs": [
    {
     "data": {
      "text/html": [
       "<div>\n",
       "<style scoped>\n",
       "    .dataframe tbody tr th:only-of-type {\n",
       "        vertical-align: middle;\n",
       "    }\n",
       "\n",
       "    .dataframe tbody tr th {\n",
       "        vertical-align: top;\n",
       "    }\n",
       "\n",
       "    .dataframe thead th {\n",
       "        text-align: right;\n",
       "    }\n",
       "</style>\n",
       "<table border=\"1\" class=\"dataframe\">\n",
       "  <thead>\n",
       "    <tr style=\"text-align: right;\">\n",
       "      <th></th>\n",
       "      <th>gameId</th>\n",
       "      <th>timeRemaining</th>\n",
       "      <th>periodNumber</th>\n",
       "      <th>timeInPeriod</th>\n",
       "      <th>eventType</th>\n",
       "      <th>shotType</th>\n",
       "      <th>xCoord</th>\n",
       "      <th>yCoord</th>\n",
       "      <th>zoneCode</th>\n",
       "      <th>shootingTeam</th>\n",
       "      <th>shotDistance</th>\n",
       "      <th>shootingTeamSide</th>\n",
       "      <th>shootingPlayer</th>\n",
       "      <th>goalieInNet</th>\n",
       "    </tr>\n",
       "  </thead>\n",
       "  <tbody>\n",
       "    <tr>\n",
       "      <th>0</th>\n",
       "      <td>2016020001</td>\n",
       "      <td>18:49</td>\n",
       "      <td>1</td>\n",
       "      <td>01:11</td>\n",
       "      <td>0</td>\n",
       "      <td>wrist</td>\n",
       "      <td>-77.0</td>\n",
       "      <td>5.0</td>\n",
       "      <td>O</td>\n",
       "      <td>Maple Leafs</td>\n",
       "      <td>13.000000</td>\n",
       "      <td>1</td>\n",
       "      <td>Mitch Marner</td>\n",
       "      <td>Craig Anderson</td>\n",
       "    </tr>\n",
       "    <tr>\n",
       "      <th>1</th>\n",
       "      <td>2016020001</td>\n",
       "      <td>17:07</td>\n",
       "      <td>1</td>\n",
       "      <td>02:53</td>\n",
       "      <td>0</td>\n",
       "      <td>wrist</td>\n",
       "      <td>86.0</td>\n",
       "      <td>13.0</td>\n",
       "      <td>O</td>\n",
       "      <td>Senators</td>\n",
       "      <td>13.341664</td>\n",
       "      <td>0</td>\n",
       "      <td>Chris Kelly</td>\n",
       "      <td>Frederik Andersen</td>\n",
       "    </tr>\n",
       "    <tr>\n",
       "      <th>2</th>\n",
       "      <td>2016020001</td>\n",
       "      <td>15:59</td>\n",
       "      <td>1</td>\n",
       "      <td>04:01</td>\n",
       "      <td>0</td>\n",
       "      <td>wrist</td>\n",
       "      <td>23.0</td>\n",
       "      <td>-38.0</td>\n",
       "      <td>N</td>\n",
       "      <td>Senators</td>\n",
       "      <td>76.157731</td>\n",
       "      <td>0</td>\n",
       "      <td>Cody Ceci</td>\n",
       "      <td>Frederik Andersen</td>\n",
       "    </tr>\n",
       "    <tr>\n",
       "      <th>3</th>\n",
       "      <td>2016020001</td>\n",
       "      <td>15:14</td>\n",
       "      <td>1</td>\n",
       "      <td>04:46</td>\n",
       "      <td>0</td>\n",
       "      <td>slap</td>\n",
       "      <td>33.0</td>\n",
       "      <td>-15.0</td>\n",
       "      <td>O</td>\n",
       "      <td>Senators</td>\n",
       "      <td>57.974132</td>\n",
       "      <td>0</td>\n",
       "      <td>Erik Karlsson</td>\n",
       "      <td>Frederik Andersen</td>\n",
       "    </tr>\n",
       "    <tr>\n",
       "      <th>4</th>\n",
       "      <td>2016020001</td>\n",
       "      <td>13:14</td>\n",
       "      <td>1</td>\n",
       "      <td>06:46</td>\n",
       "      <td>0</td>\n",
       "      <td>wrist</td>\n",
       "      <td>-34.0</td>\n",
       "      <td>28.0</td>\n",
       "      <td>O</td>\n",
       "      <td>Maple Leafs</td>\n",
       "      <td>61.717096</td>\n",
       "      <td>1</td>\n",
       "      <td>Martin Marincin</td>\n",
       "      <td>Craig Anderson</td>\n",
       "    </tr>\n",
       "    <tr>\n",
       "      <th>...</th>\n",
       "      <td>...</td>\n",
       "      <td>...</td>\n",
       "      <td>...</td>\n",
       "      <td>...</td>\n",
       "      <td>...</td>\n",
       "      <td>...</td>\n",
       "      <td>...</td>\n",
       "      <td>...</td>\n",
       "      <td>...</td>\n",
       "      <td>...</td>\n",
       "      <td>...</td>\n",
       "      <td>...</td>\n",
       "      <td>...</td>\n",
       "      <td>...</td>\n",
       "    </tr>\n",
       "    <tr>\n",
       "      <th>647521</th>\n",
       "      <td>2023030417</td>\n",
       "      <td>07:03</td>\n",
       "      <td>3</td>\n",
       "      <td>12:57</td>\n",
       "      <td>0</td>\n",
       "      <td>poke</td>\n",
       "      <td>85.0</td>\n",
       "      <td>1.0</td>\n",
       "      <td>O</td>\n",
       "      <td>Oilers</td>\n",
       "      <td>4.123106</td>\n",
       "      <td>0</td>\n",
       "      <td>Zach Hyman</td>\n",
       "      <td>Sergei Bobrovsky</td>\n",
       "    </tr>\n",
       "    <tr>\n",
       "      <th>647522</th>\n",
       "      <td>2023030417</td>\n",
       "      <td>05:35</td>\n",
       "      <td>3</td>\n",
       "      <td>14:25</td>\n",
       "      <td>0</td>\n",
       "      <td>wrist</td>\n",
       "      <td>-53.0</td>\n",
       "      <td>-27.0</td>\n",
       "      <td>O</td>\n",
       "      <td>Panthers</td>\n",
       "      <td>45.000000</td>\n",
       "      <td>1</td>\n",
       "      <td>Vladimir Tarasenko</td>\n",
       "      <td>Stuart Skinner</td>\n",
       "    </tr>\n",
       "    <tr>\n",
       "      <th>647523</th>\n",
       "      <td>2023030417</td>\n",
       "      <td>04:37</td>\n",
       "      <td>3</td>\n",
       "      <td>15:23</td>\n",
       "      <td>0</td>\n",
       "      <td>snap</td>\n",
       "      <td>-59.0</td>\n",
       "      <td>-29.0</td>\n",
       "      <td>O</td>\n",
       "      <td>Panthers</td>\n",
       "      <td>41.725292</td>\n",
       "      <td>1</td>\n",
       "      <td>Aleksander Barkov</td>\n",
       "      <td>Stuart Skinner</td>\n",
       "    </tr>\n",
       "    <tr>\n",
       "      <th>647524</th>\n",
       "      <td>2023030417</td>\n",
       "      <td>04:12</td>\n",
       "      <td>3</td>\n",
       "      <td>15:48</td>\n",
       "      <td>0</td>\n",
       "      <td>wrist</td>\n",
       "      <td>57.0</td>\n",
       "      <td>-26.0</td>\n",
       "      <td>O</td>\n",
       "      <td>Oilers</td>\n",
       "      <td>41.231056</td>\n",
       "      <td>0</td>\n",
       "      <td>Darnell Nurse</td>\n",
       "      <td>Sergei Bobrovsky</td>\n",
       "    </tr>\n",
       "    <tr>\n",
       "      <th>647525</th>\n",
       "      <td>2023030417</td>\n",
       "      <td>02:18</td>\n",
       "      <td>3</td>\n",
       "      <td>17:42</td>\n",
       "      <td>0</td>\n",
       "      <td>wrist</td>\n",
       "      <td>85.0</td>\n",
       "      <td>4.0</td>\n",
       "      <td>O</td>\n",
       "      <td>Oilers</td>\n",
       "      <td>5.656854</td>\n",
       "      <td>0</td>\n",
       "      <td>Mattias Ekholm</td>\n",
       "      <td>Sergei Bobrovsky</td>\n",
       "    </tr>\n",
       "  </tbody>\n",
       "</table>\n",
       "<p>647526 rows × 14 columns</p>\n",
       "</div>"
      ],
      "text/plain": [
       "            gameId timeRemaining  periodNumber timeInPeriod  eventType  \\\n",
       "0       2016020001         18:49             1        01:11          0   \n",
       "1       2016020001         17:07             1        02:53          0   \n",
       "2       2016020001         15:59             1        04:01          0   \n",
       "3       2016020001         15:14             1        04:46          0   \n",
       "4       2016020001         13:14             1        06:46          0   \n",
       "...            ...           ...           ...          ...        ...   \n",
       "647521  2023030417         07:03             3        12:57          0   \n",
       "647522  2023030417         05:35             3        14:25          0   \n",
       "647523  2023030417         04:37             3        15:23          0   \n",
       "647524  2023030417         04:12             3        15:48          0   \n",
       "647525  2023030417         02:18             3        17:42          0   \n",
       "\n",
       "       shotType  xCoord  yCoord zoneCode shootingTeam  shotDistance  \\\n",
       "0         wrist   -77.0     5.0        O  Maple Leafs     13.000000   \n",
       "1         wrist    86.0    13.0        O     Senators     13.341664   \n",
       "2         wrist    23.0   -38.0        N     Senators     76.157731   \n",
       "3          slap    33.0   -15.0        O     Senators     57.974132   \n",
       "4         wrist   -34.0    28.0        O  Maple Leafs     61.717096   \n",
       "...         ...     ...     ...      ...          ...           ...   \n",
       "647521     poke    85.0     1.0        O       Oilers      4.123106   \n",
       "647522    wrist   -53.0   -27.0        O     Panthers     45.000000   \n",
       "647523     snap   -59.0   -29.0        O     Panthers     41.725292   \n",
       "647524    wrist    57.0   -26.0        O       Oilers     41.231056   \n",
       "647525    wrist    85.0     4.0        O       Oilers      5.656854   \n",
       "\n",
       "        shootingTeamSide      shootingPlayer        goalieInNet  \n",
       "0                      1        Mitch Marner     Craig Anderson  \n",
       "1                      0         Chris Kelly  Frederik Andersen  \n",
       "2                      0           Cody Ceci  Frederik Andersen  \n",
       "3                      0       Erik Karlsson  Frederik Andersen  \n",
       "4                      1     Martin Marincin     Craig Anderson  \n",
       "...                  ...                 ...                ...  \n",
       "647521                 0          Zach Hyman   Sergei Bobrovsky  \n",
       "647522                 1  Vladimir Tarasenko     Stuart Skinner  \n",
       "647523                 1   Aleksander Barkov     Stuart Skinner  \n",
       "647524                 0       Darnell Nurse   Sergei Bobrovsky  \n",
       "647525                 0      Mattias Ekholm   Sergei Bobrovsky  \n",
       "\n",
       "[647526 rows x 14 columns]"
      ]
     },
     "execution_count": 2,
     "metadata": {},
     "output_type": "execute_result"
    }
   ],
   "source": [
    "#Download data for seasons\n",
    "parser = NHLDataParser()\n",
    "parser.get_shot_and_goal_pbp_df_for_seasons(2016,2023)"
   ]
  },
  {
   "cell_type": "code",
   "execution_count": 2,
   "metadata": {},
   "outputs": [],
   "source": [
    "stats = NHLStats()\n"
   ]
  },
  {
   "cell_type": "code",
   "execution_count": 3,
   "metadata": {},
   "outputs": [
    {
     "data": {
      "application/vnd.jupyter.widget-view+json": {
       "model_id": "7b1bdf40e8b041308539fcfc2e5e36e9",
       "version_major": 2,
       "version_minor": 0
      },
      "text/plain": [
       "interactive(children=(Dropdown(description='start_season', options=(2016, 2017, 2018, 2019, 2020, 2021, 2022, …"
      ]
     },
     "metadata": {},
     "output_type": "display_data"
    },
    {
     "data": {
      "text/plain": [
       "<function ipywidgets.widgets.interaction._InteractFactory.__call__.<locals>.<lambda>(*args, **kwargs)>"
      ]
     },
     "execution_count": 3,
     "metadata": {},
     "output_type": "execute_result"
    }
   ],
   "source": [
    "#make changes to options and clock Run Interact to plot.May take some time to update depending on the graph\n",
    "widgets.interact_manual(stats.plot_shot_type_distribution,start_season=season_range,end_season = season_range)"
   ]
  },
  {
   "cell_type": "code",
   "execution_count": 4,
   "metadata": {},
   "outputs": [
    {
     "data": {
      "application/vnd.jupyter.widget-view+json": {
       "model_id": "0f09c0ddcdd249588d5c6a4b377ac8c7",
       "version_major": 2,
       "version_minor": 0
      },
      "text/plain": [
       "interactive(children=(Dropdown(description='start_season', options=(2016, 2017, 2018, 2019, 2020, 2021, 2022, …"
      ]
     },
     "metadata": {},
     "output_type": "display_data"
    },
    {
     "data": {
      "text/plain": [
       "<function ipywidgets.widgets.interaction._InteractFactory.__call__.<locals>.<lambda>(*args, **kwargs)>"
      ]
     },
     "execution_count": 4,
     "metadata": {},
     "output_type": "execute_result"
    }
   ],
   "source": [
    "widgets.interact_manual(stats.plot_shot_distance_distribution,start_season=season_range,end_season=season_range,by_type=False,by_goal=False) "
   ]
  },
  {
   "cell_type": "code",
   "execution_count": 5,
   "metadata": {},
   "outputs": [
    {
     "data": {
      "application/vnd.jupyter.widget-view+json": {
       "model_id": "281185e9330f480397342a9bfb9d0de1",
       "version_major": 2,
       "version_minor": 0
      },
      "text/plain": [
       "interactive(children=(Dropdown(description='start_season', options=(2016, 2017, 2018, 2019, 2020, 2021, 2022, …"
      ]
     },
     "metadata": {},
     "output_type": "display_data"
    },
    {
     "data": {
      "text/plain": [
       "<function ipywidgets.widgets.interaction._InteractFactory.__call__.<locals>.<lambda>(*args, **kwargs)>"
      ]
     },
     "execution_count": 5,
     "metadata": {},
     "output_type": "execute_result"
    }
   ],
   "source": [
    "widgets.interact_manual(stats.plot_shot_distance_probability,start_season=season_range,end_season=season_range,bin_width = (0.5,20,0.5)) \n"
   ]
  },
  {
   "cell_type": "code",
   "execution_count": null,
   "metadata": {},
   "outputs": [],
   "source": []
  }
 ],
 "metadata": {
  "kernelspec": {
   "display_name": "Python 3",
   "language": "python",
   "name": "python3"
  },
  "language_info": {
   "codemirror_mode": {
    "name": "ipython",
    "version": 3
   },
   "file_extension": ".py",
   "mimetype": "text/x-python",
   "name": "python",
   "nbconvert_exporter": "python",
   "pygments_lexer": "ipython3",
   "version": "3.12.6"
  }
 },
 "nbformat": 4,
 "nbformat_minor": 2
}
