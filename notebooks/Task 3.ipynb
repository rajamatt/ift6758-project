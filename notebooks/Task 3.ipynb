{
 "cells": [
  {
   "cell_type": "code",
   "execution_count": 1,
   "metadata": {},
   "outputs": [],
   "source": [
    "%load_ext autoreload\n",
    "%autoreload 2"
   ]
  },
  {
   "cell_type": "code",
   "execution_count": 2,
   "metadata": {},
   "outputs": [],
   "source": [
    "#Import Stuff\n",
    "\n",
    "from ift6758.data.nhl_data_parser import NHLDataParser\n",
    "from ift6758.visualizations.nhl_stats import NHLStats\n",
    "from ipywidgets import widgets\n",
    "import pandas as pd\n",
    "season_range = [2016,2017,2018,2019,2020,2021,2022,2023]\n",
    "shot_types = ['wrist', 'slap', 'backhand', 'snap', 'tip-in', 'deflected','wrap-around','poke', 'bat', 'between-legs', 'cradle']\n",
    "team_list = ['Lightning', 'Penguins', 'Kraken', 'Golden Knights', 'Canadiens','Maple Leafs', 'Rangers', 'Capitals', 'Avalanche', 'Blackhawks',\n",
    "             'Canucks', 'Oilers', 'Sabres', 'Senators', 'Red Wings', 'Panthers','Stars', 'Islanders', 'Hurricanes', 'Blue Jackets', 'Coyotes',\n",
    "             'Predators', 'Jets', 'Ducks', 'Kings', 'Devils', 'Flyers', 'Wild','Bruins', 'Blues', 'Flames', 'Sharks']"
   ]
  },
  {
   "cell_type": "code",
   "execution_count": 3,
   "metadata": {},
   "outputs": [
    {
     "data": {
      "text/html": [
       "<div>\n",
       "<style scoped>\n",
       "    .dataframe tbody tr th:only-of-type {\n",
       "        vertical-align: middle;\n",
       "    }\n",
       "\n",
       "    .dataframe tbody tr th {\n",
       "        vertical-align: top;\n",
       "    }\n",
       "\n",
       "    .dataframe thead th {\n",
       "        text-align: right;\n",
       "    }\n",
       "</style>\n",
       "<table border=\"1\" class=\"dataframe\">\n",
       "  <thead>\n",
       "    <tr style=\"text-align: right;\">\n",
       "      <th></th>\n",
       "      <th>gameId</th>\n",
       "      <th>timeRemaining</th>\n",
       "      <th>periodNumber</th>\n",
       "      <th>timeInPeriod</th>\n",
       "      <th>isGoal</th>\n",
       "      <th>shotType</th>\n",
       "      <th>xCoord</th>\n",
       "      <th>yCoord</th>\n",
       "      <th>shootingTeam</th>\n",
       "      <th>shotDistance</th>\n",
       "      <th>shootingTeamSide</th>\n",
       "      <th>shootingPlayer</th>\n",
       "      <th>goalieInNet</th>\n",
       "      <th>zoneCode</th>\n",
       "    </tr>\n",
       "  </thead>\n",
       "  <tbody>\n",
       "    <tr>\n",
       "      <th>0</th>\n",
       "      <td>2016020001</td>\n",
       "      <td>18:49</td>\n",
       "      <td>1</td>\n",
       "      <td>01:11</td>\n",
       "      <td>0</td>\n",
       "      <td>wrist</td>\n",
       "      <td>-77.0</td>\n",
       "      <td>5.0</td>\n",
       "      <td>Maple Leafs</td>\n",
       "      <td>13.000000</td>\n",
       "      <td>1</td>\n",
       "      <td>Mitch Marner</td>\n",
       "      <td>Craig Anderson</td>\n",
       "      <td>O</td>\n",
       "    </tr>\n",
       "    <tr>\n",
       "      <th>1</th>\n",
       "      <td>2016020001</td>\n",
       "      <td>17:07</td>\n",
       "      <td>1</td>\n",
       "      <td>02:53</td>\n",
       "      <td>0</td>\n",
       "      <td>wrist</td>\n",
       "      <td>86.0</td>\n",
       "      <td>13.0</td>\n",
       "      <td>Senators</td>\n",
       "      <td>13.341664</td>\n",
       "      <td>0</td>\n",
       "      <td>Chris Kelly</td>\n",
       "      <td>Frederik Andersen</td>\n",
       "      <td>O</td>\n",
       "    </tr>\n",
       "    <tr>\n",
       "      <th>2</th>\n",
       "      <td>2016020001</td>\n",
       "      <td>15:59</td>\n",
       "      <td>1</td>\n",
       "      <td>04:01</td>\n",
       "      <td>0</td>\n",
       "      <td>wrist</td>\n",
       "      <td>23.0</td>\n",
       "      <td>-38.0</td>\n",
       "      <td>Senators</td>\n",
       "      <td>76.157731</td>\n",
       "      <td>0</td>\n",
       "      <td>Cody Ceci</td>\n",
       "      <td>Frederik Andersen</td>\n",
       "      <td>N</td>\n",
       "    </tr>\n",
       "    <tr>\n",
       "      <th>3</th>\n",
       "      <td>2016020001</td>\n",
       "      <td>15:14</td>\n",
       "      <td>1</td>\n",
       "      <td>04:46</td>\n",
       "      <td>0</td>\n",
       "      <td>slap</td>\n",
       "      <td>33.0</td>\n",
       "      <td>-15.0</td>\n",
       "      <td>Senators</td>\n",
       "      <td>57.974132</td>\n",
       "      <td>0</td>\n",
       "      <td>Erik Karlsson</td>\n",
       "      <td>Frederik Andersen</td>\n",
       "      <td>O</td>\n",
       "    </tr>\n",
       "    <tr>\n",
       "      <th>4</th>\n",
       "      <td>2016020001</td>\n",
       "      <td>13:14</td>\n",
       "      <td>1</td>\n",
       "      <td>06:46</td>\n",
       "      <td>0</td>\n",
       "      <td>wrist</td>\n",
       "      <td>-34.0</td>\n",
       "      <td>28.0</td>\n",
       "      <td>Maple Leafs</td>\n",
       "      <td>61.717096</td>\n",
       "      <td>1</td>\n",
       "      <td>Martin Marincin</td>\n",
       "      <td>Craig Anderson</td>\n",
       "      <td>O</td>\n",
       "    </tr>\n",
       "    <tr>\n",
       "      <th>...</th>\n",
       "      <td>...</td>\n",
       "      <td>...</td>\n",
       "      <td>...</td>\n",
       "      <td>...</td>\n",
       "      <td>...</td>\n",
       "      <td>...</td>\n",
       "      <td>...</td>\n",
       "      <td>...</td>\n",
       "      <td>...</td>\n",
       "      <td>...</td>\n",
       "      <td>...</td>\n",
       "      <td>...</td>\n",
       "      <td>...</td>\n",
       "      <td>...</td>\n",
       "    </tr>\n",
       "    <tr>\n",
       "      <th>647521</th>\n",
       "      <td>2023030417</td>\n",
       "      <td>07:03</td>\n",
       "      <td>3</td>\n",
       "      <td>12:57</td>\n",
       "      <td>0</td>\n",
       "      <td>poke</td>\n",
       "      <td>85.0</td>\n",
       "      <td>1.0</td>\n",
       "      <td>Oilers</td>\n",
       "      <td>4.123106</td>\n",
       "      <td>0</td>\n",
       "      <td>Zach Hyman</td>\n",
       "      <td>Sergei Bobrovsky</td>\n",
       "      <td>O</td>\n",
       "    </tr>\n",
       "    <tr>\n",
       "      <th>647522</th>\n",
       "      <td>2023030417</td>\n",
       "      <td>05:35</td>\n",
       "      <td>3</td>\n",
       "      <td>14:25</td>\n",
       "      <td>0</td>\n",
       "      <td>wrist</td>\n",
       "      <td>-53.0</td>\n",
       "      <td>-27.0</td>\n",
       "      <td>Panthers</td>\n",
       "      <td>45.000000</td>\n",
       "      <td>1</td>\n",
       "      <td>Vladimir Tarasenko</td>\n",
       "      <td>Stuart Skinner</td>\n",
       "      <td>O</td>\n",
       "    </tr>\n",
       "    <tr>\n",
       "      <th>647523</th>\n",
       "      <td>2023030417</td>\n",
       "      <td>04:37</td>\n",
       "      <td>3</td>\n",
       "      <td>15:23</td>\n",
       "      <td>0</td>\n",
       "      <td>snap</td>\n",
       "      <td>-59.0</td>\n",
       "      <td>-29.0</td>\n",
       "      <td>Panthers</td>\n",
       "      <td>41.725292</td>\n",
       "      <td>1</td>\n",
       "      <td>Aleksander Barkov</td>\n",
       "      <td>Stuart Skinner</td>\n",
       "      <td>O</td>\n",
       "    </tr>\n",
       "    <tr>\n",
       "      <th>647524</th>\n",
       "      <td>2023030417</td>\n",
       "      <td>04:12</td>\n",
       "      <td>3</td>\n",
       "      <td>15:48</td>\n",
       "      <td>0</td>\n",
       "      <td>wrist</td>\n",
       "      <td>57.0</td>\n",
       "      <td>-26.0</td>\n",
       "      <td>Oilers</td>\n",
       "      <td>41.231056</td>\n",
       "      <td>0</td>\n",
       "      <td>Darnell Nurse</td>\n",
       "      <td>Sergei Bobrovsky</td>\n",
       "      <td>O</td>\n",
       "    </tr>\n",
       "    <tr>\n",
       "      <th>647525</th>\n",
       "      <td>2023030417</td>\n",
       "      <td>02:18</td>\n",
       "      <td>3</td>\n",
       "      <td>17:42</td>\n",
       "      <td>0</td>\n",
       "      <td>wrist</td>\n",
       "      <td>85.0</td>\n",
       "      <td>4.0</td>\n",
       "      <td>Oilers</td>\n",
       "      <td>5.656854</td>\n",
       "      <td>0</td>\n",
       "      <td>Mattias Ekholm</td>\n",
       "      <td>Sergei Bobrovsky</td>\n",
       "      <td>O</td>\n",
       "    </tr>\n",
       "  </tbody>\n",
       "</table>\n",
       "<p>647526 rows × 14 columns</p>\n",
       "</div>"
      ],
      "text/plain": [
       "            gameId timeRemaining  periodNumber timeInPeriod  isGoal shotType  \\\n",
       "0       2016020001         18:49             1        01:11       0    wrist   \n",
       "1       2016020001         17:07             1        02:53       0    wrist   \n",
       "2       2016020001         15:59             1        04:01       0    wrist   \n",
       "3       2016020001         15:14             1        04:46       0     slap   \n",
       "4       2016020001         13:14             1        06:46       0    wrist   \n",
       "...            ...           ...           ...          ...     ...      ...   \n",
       "647521  2023030417         07:03             3        12:57       0     poke   \n",
       "647522  2023030417         05:35             3        14:25       0    wrist   \n",
       "647523  2023030417         04:37             3        15:23       0     snap   \n",
       "647524  2023030417         04:12             3        15:48       0    wrist   \n",
       "647525  2023030417         02:18             3        17:42       0    wrist   \n",
       "\n",
       "        xCoord  yCoord shootingTeam  shotDistance  shootingTeamSide  \\\n",
       "0        -77.0     5.0  Maple Leafs     13.000000                 1   \n",
       "1         86.0    13.0     Senators     13.341664                 0   \n",
       "2         23.0   -38.0     Senators     76.157731                 0   \n",
       "3         33.0   -15.0     Senators     57.974132                 0   \n",
       "4        -34.0    28.0  Maple Leafs     61.717096                 1   \n",
       "...        ...     ...          ...           ...               ...   \n",
       "647521    85.0     1.0       Oilers      4.123106                 0   \n",
       "647522   -53.0   -27.0     Panthers     45.000000                 1   \n",
       "647523   -59.0   -29.0     Panthers     41.725292                 1   \n",
       "647524    57.0   -26.0       Oilers     41.231056                 0   \n",
       "647525    85.0     4.0       Oilers      5.656854                 0   \n",
       "\n",
       "            shootingPlayer        goalieInNet zoneCode  \n",
       "0             Mitch Marner     Craig Anderson        O  \n",
       "1              Chris Kelly  Frederik Andersen        O  \n",
       "2                Cody Ceci  Frederik Andersen        N  \n",
       "3            Erik Karlsson  Frederik Andersen        O  \n",
       "4          Martin Marincin     Craig Anderson        O  \n",
       "...                    ...                ...      ...  \n",
       "647521          Zach Hyman   Sergei Bobrovsky        O  \n",
       "647522  Vladimir Tarasenko     Stuart Skinner        O  \n",
       "647523   Aleksander Barkov     Stuart Skinner        O  \n",
       "647524       Darnell Nurse   Sergei Bobrovsky        O  \n",
       "647525      Mattias Ekholm   Sergei Bobrovsky        O  \n",
       "\n",
       "[647526 rows x 14 columns]"
      ]
     },
     "execution_count": 3,
     "metadata": {},
     "output_type": "execute_result"
    }
   ],
   "source": [
    "#Download data for seasons\n",
    "parser = NHLDataParser()\n",
    "parser.get_shot_and_goal_pbp_df_for_seasons(2016,2023)"
   ]
  },
  {
   "cell_type": "code",
   "execution_count": 4,
   "metadata": {},
   "outputs": [],
   "source": [
    "stats = NHLStats()\n"
   ]
  },
  {
   "cell_type": "code",
   "execution_count": 5,
   "metadata": {},
   "outputs": [
    {
     "data": {
      "application/vnd.jupyter.widget-view+json": {
       "model_id": "0c51be35e280448ca49a0f758e8f28f6",
       "version_major": 2,
       "version_minor": 0
      },
      "text/plain": [
       "interactive(children=(Dropdown(description='start_season', options=(2016, 2017, 2018, 2019, 2020, 2021, 2022, …"
      ]
     },
     "metadata": {},
     "output_type": "display_data"
    },
    {
     "data": {
      "text/plain": [
       "<function ipywidgets.widgets.interaction._InteractFactory.__call__.<locals>.<lambda>(*args, **kwargs)>"
      ]
     },
     "execution_count": 5,
     "metadata": {},
     "output_type": "execute_result"
    }
   ],
   "source": [
    "#make changes to options and click Run Interact to plot. May take some time to update depending on the graph\n",
    "#ONLY RUN WIDGETS IN JUPYTER LAB (NOT VS CODE)\n",
    "widgets.interact_manual(stats.plot_shot_type_distribution,start_season=season_range,end_season = season_range)"
   ]
  },
  {
   "cell_type": "code",
   "execution_count": 6,
   "metadata": {},
   "outputs": [
    {
     "data": {
      "application/vnd.jupyter.widget-view+json": {
       "model_id": "18929a7bcd3f42ab869078115f31e628",
       "version_major": 2,
       "version_minor": 0
      },
      "text/plain": [
       "interactive(children=(Dropdown(description='start_season', options=(2016, 2017, 2018, 2019, 2020, 2021, 2022, …"
      ]
     },
     "metadata": {},
     "output_type": "display_data"
    },
    {
     "data": {
      "text/plain": [
       "<function ipywidgets.widgets.interaction._InteractFactory.__call__.<locals>.<lambda>(*args, **kwargs)>"
      ]
     },
     "execution_count": 6,
     "metadata": {},
     "output_type": "execute_result"
    }
   ],
   "source": [
    "widgets.interact_manual(stats.plot_shot_distance_distribution,start_season=season_range,end_season=season_range,by_type=False,by_goal=False) "
   ]
  },
  {
   "cell_type": "code",
   "execution_count": 7,
   "metadata": {},
   "outputs": [
    {
     "data": {
      "application/vnd.jupyter.widget-view+json": {
       "model_id": "44f1f688e2f247f7bd36ef896691129e",
       "version_major": 2,
       "version_minor": 0
      },
      "text/plain": [
       "interactive(children=(Dropdown(description='start_season', options=(2016, 2017, 2018, 2019, 2020, 2021, 2022, …"
      ]
     },
     "metadata": {},
     "output_type": "display_data"
    },
    {
     "data": {
      "text/plain": [
       "<function ipywidgets.widgets.interaction._InteractFactory.__call__.<locals>.<lambda>(*args, **kwargs)>"
      ]
     },
     "execution_count": 7,
     "metadata": {},
     "output_type": "execute_result"
    }
   ],
   "source": [
    "widgets.interact_manual(stats.plot_shot_distance_probability,start_season=season_range,end_season=season_range,bin_width = (1,20,0.5),norm =False) \n"
   ]
  },
  {
   "cell_type": "code",
   "execution_count": 8,
   "metadata": {},
   "outputs": [
    {
     "data": {
      "application/vnd.jupyter.widget-view+json": {
       "model_id": "d876df09bb174221850ab9429cd4f0f5",
       "version_major": 2,
       "version_minor": 0
      },
      "text/plain": [
       "interactive(children=(Dropdown(description='start_season', options=(2016, 2017, 2018, 2019, 2020, 2021, 2022, …"
      ]
     },
     "metadata": {},
     "output_type": "display_data"
    },
    {
     "data": {
      "text/plain": [
       "<function ipywidgets.widgets.interaction._InteractFactory.__call__.<locals>.<lambda>(*args, **kwargs)>"
      ]
     },
     "execution_count": 8,
     "metadata": {},
     "output_type": "execute_result"
    }
   ],
   "source": [
    "#CTRL click to select multiple options. Note that there were some new type of shots added from 2022 (poke,bat,between legs/wrap around) so seasons before that dont track them\n",
    "widgets.interact_manual(stats.plot_shot_distance_type_probability,\n",
    "                        start_season=season_range,end_season = season_range,\n",
    "                        bin_width = (1,20,0.5),\n",
    "                        shot_types=widgets.SelectMultiple(options = shot_types),norm =False)"
   ]
  },
  {
   "cell_type": "code",
   "execution_count": 9,
   "metadata": {},
   "outputs": [
    {
     "data": {
      "application/vnd.jupyter.widget-view+json": {
       "model_id": "6e4e63b90f9342e1b48d5b1f86398d72",
       "version_major": 2,
       "version_minor": 0
      },
      "text/plain": [
       "interactive(children=(Dropdown(description='season', options=(2016, 2017, 2018, 2019, 2020, 2021, 2022, 2023),…"
      ]
     },
     "execution_count": 9,
     "metadata": {},
     "output_type": "execute_result"
    }
   ],
   "source": [
    "w = widgets.interactive(stats.plot_shot_team_rate,\n",
    "                        {'manual':True},\n",
    "                        season=season_range,\n",
    "                        team = team_list,\n",
    "                        xbin = (5,20,0.5),\n",
    "                        ybin = (5,20,0.5),\n",
    "                        sigma=(0.5,8,0.5))\n",
    "w"
   ]
  }
 ],
 "metadata": {
  "kernelspec": {
   "display_name": "Python 3",
   "language": "python",
   "name": "python3"
  },
  "language_info": {
   "codemirror_mode": {
    "name": "ipython",
    "version": 3
   },
   "file_extension": ".py",
   "mimetype": "text/x-python",
   "name": "python",
   "nbconvert_exporter": "python",
   "pygments_lexer": "ipython3",
   "version": "3.12.5"
  }
 },
 "nbformat": 4,
 "nbformat_minor": 4
}
