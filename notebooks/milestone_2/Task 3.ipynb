{
 "cells": [
  {
   "cell_type": "markdown",
   "metadata": {},
   "source": [
    "# Task 3 - Basic Models"
   ]
  },
  {
   "cell_type": "code",
   "execution_count": null,
   "metadata": {},
   "outputs": [],
   "source": [
    "from ift6758.data.nhl_data_parser import NHLDataParser\n",
    "from sklearn.metrics import accuracy_score\n",
    "from sklearn.linear_model import LogisticRegression\n",
    "import numpy as np\n",
    "import pickle\n",
    "from sklearn.metrics import  RocCurveDisplay\n",
    "from sklearn.calibration import CalibrationDisplay\n",
    "import matplotlib.pyplot as plt\n",
    "import os"
   ]
  },
  {
   "cell_type": "code",
   "execution_count": null,
   "metadata": {},
   "outputs": [],
   "source": [
    "# Load the data\n",
    "data_parser = NHLDataParser()\n",
    "train_df = data_parser.get_shot_and_goal_pbp_df_for_seasons(2016, 2018, with_playoff_season=False)\n",
    "val_df = data_parser.get_shot_and_goal_pbp_df_for_season(2019, with_playoff_season=False)\n",
    "test_df = data_parser.get_shot_and_goal_pbp_df_for_season(2020, with_playoff_season=False)"
   ]
  },
  {
   "cell_type": "code",
   "execution_count": null,
   "metadata": {},
   "outputs": [],
   "source": [
    "val_df"
   ]
  },
  {
   "cell_type": "code",
   "execution_count": null,
   "metadata": {},
   "outputs": [],
   "source": [
    "# load path and make dirs to store model\n",
    "model_path = os.getenv(\"MODEL_PATH\") #edit .env file to change path\n",
    "logistic_path = os.path.join(model_path, \"logistic_regression\")\n",
    "if not os.path.exists(logistic_path):\n",
    "    os.makedirs(logistic_path)"
   ]
  },
  {
   "cell_type": "markdown",
   "metadata": {},
   "source": [
    "## Logistic Regression 1: Only using distance"
   ]
  },
  {
   "cell_type": "code",
   "execution_count": null,
   "metadata": {},
   "outputs": [],
   "source": [
    "X_train = train_df[['shotDistance']]\n",
    "y_train = train_df['isGoal']\n",
    "X_val = val_df[['shotDistance']]\n",
    "y_val = val_df['isGoal']\n",
    "clf_log1 = LogisticRegression().fit(X_train, y_train) \n",
    "predictions_1 = clf_log1.predict(X_val)\n",
    "prob_scores_1 = clf_log1.predict_proba(X_val)[:,1]\n",
    "print('Accuracy:', accuracy_score(y_val, predictions_1))\n",
    "model_1_path = os.path.join(logistic_path, \"lg_distance.pkl\")\n",
    "with open(model_1_path, 'wb') as f:\n",
    "    pickle.dump(clf_log1, f)"
   ]
  },
  {
   "cell_type": "markdown",
   "metadata": {},
   "source": [
    "## Logistic Regression 2: Only using Angle"
   ]
  },
  {
   "cell_type": "code",
   "execution_count": null,
   "metadata": {},
   "outputs": [],
   "source": [
    "X_train = train_df[['shotAngle']]\n",
    "y_train = train_df['isGoal']\n",
    "X_val = val_df[['shotAngle']]\n",
    "y_val = val_df['isGoal']\n",
    "clf_log2 = LogisticRegression().fit(X_train, y_train) \n",
    "predictions_2 = clf_log2.predict(X_val)\n",
    "prob_scores_2 = clf_log2.predict_proba(X_val)[:,1]\n",
    "print('Accuracy:', accuracy_score(y_val, predictions_2))\n",
    "model_2_path = os.path.join(logistic_path, \"lg_angle.pkl\")\n",
    "with open(model_2_path, 'wb') as f:\n",
    "    pickle.dump(clf_log2, f)"
   ]
  },
  {
   "cell_type": "markdown",
   "metadata": {},
   "source": [
    "## Logistic Regression 3: Using both Angle and Distance"
   ]
  },
  {
   "cell_type": "code",
   "execution_count": null,
   "metadata": {},
   "outputs": [],
   "source": [
    "X_train = train_df[['shotDistance', 'shotAngle']]\n",
    "y_train = train_df['isGoal']\n",
    "X_val = val_df[['shotDistance', 'shotAngle']]\n",
    "y_val = val_df['isGoal']\n",
    "clf_log3 = LogisticRegression().fit(X_train, y_train) \n",
    "predictions_3 = clf_log3.predict(X_val)\n",
    "prob_scores_3 = clf_log3.predict_proba(X_val)[:,1]\n",
    "print('Accuracy:', accuracy_score(y_val, predictions_3))\n",
    "model_3_path = os.path.join(logistic_path, \"lg_distance_angle.pkl\")\n",
    "with open(model_3_path, 'wb') as f:\n",
    "    pickle.dump(clf_log3, f)\n"
   ]
  },
  {
   "cell_type": "markdown",
   "metadata": {},
   "source": [
    "## Graphs"
   ]
  },
  {
   "cell_type": "code",
   "execution_count": null,
   "metadata": {},
   "outputs": [],
   "source": [
    "#Collect all the probabilities\n",
    "prob_scores = [('Distance',prob_scores_1), ('Angle',prob_scores_2), ('Angle and Distance',prob_scores_3)]"
   ]
  },
  {
   "cell_type": "code",
   "execution_count": null,
   "metadata": {},
   "outputs": [],
   "source": [
    "fig_1, ax_1 = plt.subplots()\n",
    "roc = {}\n",
    "plot_random = False\n",
    "\n",
    "# Plot the ROC curve for each classifier\n",
    "for name, prob_score in prob_scores:\n",
    "    roc[name] = RocCurveDisplay.from_predictions(\n",
    "        y_val,\n",
    "        prob_score,\n",
    "        ax=ax_1,\n",
    "        name=f'Logistic Regression ({name})'\n",
    "    )\n",
    "    if name == 'Angle and Distance' and not plot_random:\n",
    "        ax_1.plot([0, 1], [0, 1], linestyle='--', label='Random Classifier (AUC=0.5)', color='gray')\n",
    "        plot_random = True\n",
    "\n",
    "ax_1.set_title('Receiver Operating Characteristic (ROC) Curve')\n",
    "ax_1.set_xlabel('False Positive Rate')\n",
    "ax_1.set_ylabel('True Positive Rate')\n",
    "ax_1.legend(loc='lower right')\n",
    "fig_1.set_size_inches(7, 7)\n",
    "plt.show()\n"
   ]
  },
  {
   "cell_type": "code",
   "execution_count": null,
   "metadata": {},
   "outputs": [],
   "source": [
    "#Graph 2: Goal Rate as a Function of Shot Probability Model Percentile\n",
    "\n",
    "# Calculate the percentiles for the shot probabilities for all models\n",
    "percentile_bins = np.arange(0, 100, 2)\n",
    "percentiles = {}\n",
    "for name, prob_score in prob_scores:\n",
    "    percentile_data = np.percentile(prob_score , percentile_bins)\n",
    "    percentiles[name] = percentile_data\n",
    "\n",
    "\n",
    "# Calculate the goal rates for each percentile for all models\n",
    "goal_rates = {}\n",
    "for name, prob_score in prob_scores:\n",
    "    goal_rates[name] = []\n",
    "    for percentile in percentiles[name]:\n",
    "        mask = prob_score  >= percentile\n",
    "        goal_rates[name].append(y_val[mask].mean())\n",
    "\n",
    "\n",
    "# Plot the goal rate as a function of the shot probability model percentile for all models\n",
    "\n",
    "fig_2, ax_2 = plt.subplots()\n",
    "for name, goal_rate in goal_rates.items():\n",
    "    ax_2.plot(percentile_bins, goal_rate, marker='.', label=name)\n",
    "plt.xlabel('Shot Probability Model Percentile')\n",
    "plt.ylabel('Goal Rate')\n",
    "plt.title('Goal Rate vs Shot Probability Percentile For Logistic Regression')\n",
    "plt.grid(True)\n",
    "plt.legend()\n",
    "plt.ylim(0, 1)\n",
    "plt.gca().yaxis.set_major_formatter(plt.FuncFormatter(lambda y, _: '{:.0%}'.format(y)))\n",
    "plt.xlim(100, -5)\n",
    "fig_2.set_size_inches(10,6)\n",
    "plt.show()\n",
    "\n"
   ]
  },
  {
   "cell_type": "code",
   "execution_count": null,
   "metadata": {},
   "outputs": [],
   "source": [
    "# Graph 3: Cumulative Proportion of Goals as a Function of Shot Probability Model Percentile \n",
    "\n",
    "# Calculate the cumulative goal percentage for each percentile for all models\n",
    "cumulative_goal_proportions = {}\n",
    "for name, prob_score in prob_scores:\n",
    "    cumulative_goal_proportions[name] = []\n",
    "    for percentile in percentiles[name]:\n",
    "        mask = prob_score  >= percentile\n",
    "        cumulative_goal_proportions[name].append(y_val[mask].sum() / y_val.sum())\n",
    "\n",
    "\n",
    "# Plot the cumulative proportion of goals as a function of the shot probability model percentile for all models\n",
    "fig_3, ax_3 = plt.subplots()\n",
    "for name, cumulative_goal_proportion in cumulative_goal_proportions.items():\n",
    "    ax_3.plot(percentile_bins, cumulative_goal_proportion, marker='.', label=name)\n",
    "plt.xlabel('Shot Probability Model Percentile')\n",
    "plt.ylabel('Cumulative Proportion of Goals')\n",
    "plt.title('Cumulative Proportion of Goals vs Shot Probability Percentile For Logistic Regression')\n",
    "plt.grid(True)\n",
    "plt.ylim(0, 1)\n",
    "plt.gca().yaxis.set_major_formatter(plt.FuncFormatter(lambda y, _: '{:.0%}'.format(y)))\n",
    "plt.xlim(100, 0)\n",
    "plt.legend()\n",
    "fig_3.set_size_inches(10,6)\n",
    "plt.show()"
   ]
  },
  {
   "cell_type": "code",
   "execution_count": null,
   "metadata": {},
   "outputs": [],
   "source": [
    "# Graph 4: Calibration Curve\n",
    "fig_4,ax_4 = plt.subplots()\n",
    "#Plot the calibration curve for each classifier\n",
    "for name, prob_score in prob_scores:\n",
    "    CalibrationDisplay.from_predictions(y_val, prob_score, n_bins=20, strategy='uniform',ax=ax_4,name=f'Logistic Regression({name})')\n",
    "plt.title('Reliability Diagram (Calibration Curve)')\n",
    "plt.show()"
   ]
  },
  {
   "cell_type": "markdown",
   "metadata": {},
   "source": [
    "## Log Everything Using Wandb"
   ]
  },
  {
   "cell_type": "markdown",
   "metadata": {},
   "source": [
    "## "
   ]
  },
  {
   "cell_type": "code",
   "execution_count": null,
   "metadata": {},
   "outputs": [],
   "source": [
    "from ift6758.data.data_logger import DataLogger\n",
    "api_key = os.getenv(\"WANDB_API_KEY\") #REMEMBER TO SET YOUR API KEY IN THE ENVIRONMENT VARIABLES BUT NOT PUSH IT TO GITHUB\n",
    "logger = DataLogger(project_name=\"IFT6758.2024-B08\",entity='team08',group = 'logistic_regression',API_KEY=api_key)"
   ]
  },
  {
   "cell_type": "code",
   "execution_count": null,
   "metadata": {},
   "outputs": [],
   "source": [
    "#Collect data to pass through the logger\n",
    "models =[(model_1_path, 'lg_distance'),(model_2_path, 'lg_angle'),(model_3_path, 'lg_angle_distance')]\n",
    "figures = [(fig_1,'ROC'),(fig_2,'goal_rate_probpercentile'),(fig_3,'cum_probpercentile'),(fig_4,'calibration_curve')]"
   ]
  },
  {
   "cell_type": "code",
   "execution_count": null,
   "metadata": {},
   "outputs": [],
   "source": [
    "#Log the models and figures\n",
    "# logger.log_models(models)\n",
    "logger.log_figures(figures)"
   ]
  },
  {
   "cell_type": "code",
   "execution_count": null,
   "metadata": {},
   "outputs": [],
   "source": []
  }
 ],
 "metadata": {
  "kernelspec": {
   "display_name": "base",
   "language": "python",
   "name": "python3"
  },
  "language_info": {
   "codemirror_mode": {
    "name": "ipython",
    "version": 3
   },
   "file_extension": ".py",
   "mimetype": "text/x-python",
   "name": "python",
   "nbconvert_exporter": "python",
   "pygments_lexer": "ipython3",
   "version": "3.11.3"
  }
 },
 "nbformat": 4,
 "nbformat_minor": 2
}
