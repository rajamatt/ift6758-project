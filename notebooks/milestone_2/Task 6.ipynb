{
 "cells": [
  {
   "cell_type": "markdown",
   "metadata": {},
   "source": [
    "# Task 6 - Advanced Models"
   ]
  },
  {
   "cell_type": "code",
   "execution_count": 79,
   "metadata": {},
   "outputs": [],
   "source": [
    "from ift6758.data.nhl_data_parser import NHLDataParser\n",
    "from sklearn.metrics import precision_score, recall_score, f1_score, roc_auc_score, average_precision_score\n",
    "from sklearn.tree import DecisionTreeClassifier\n",
    "import numpy as np\n",
    "import pandas as pd\n",
    "from sklearn.model_selection import train_test_split,StratifiedShuffleSplit\n",
    "import pickle\n",
    "from sklearn.preprocessing import LabelEncoder\n",
    "from sklearn.metrics import  RocCurveDisplay\n",
    "from sklearn.calibration import CalibrationDisplay\n",
    "import matplotlib.pyplot as plt\n",
    "import os\n",
    "import wandb\n",
    "from ift6758.data.data_logger import DataLogger"
   ]
  },
  {
   "cell_type": "code",
   "execution_count": 80,
   "metadata": {},
   "outputs": [],
   "source": [
    "# Load the data\n",
    "data_parser = NHLDataParser()\n",
    "train_df = data_parser.get_shot_and_goal_pbp_df_for_seasons(2016, 2019, with_playoff_season=False)\n",
    "test_df = data_parser.get_shot_and_goal_pbp_df_for_season(2020, with_playoff_season=False)"
   ]
  },
  {
   "cell_type": "code",
   "execution_count": 81,
   "metadata": {},
   "outputs": [],
   "source": [
    "#default values\n",
    "project_name = \"IFT6758.2024-B08\"\n",
    "entity_name = \"team08\"\n",
    "dir_path = os.getenv('WANDB_DIR')\n"
   ]
  },
  {
   "cell_type": "code",
   "execution_count": 82,
   "metadata": {},
   "outputs": [
    {
     "data": {
      "text/html": [
       "<div>\n",
       "<style scoped>\n",
       "    .dataframe tbody tr th:only-of-type {\n",
       "        vertical-align: middle;\n",
       "    }\n",
       "\n",
       "    .dataframe tbody tr th {\n",
       "        vertical-align: top;\n",
       "    }\n",
       "\n",
       "    .dataframe thead th {\n",
       "        text-align: right;\n",
       "    }\n",
       "</style>\n",
       "<table border=\"1\" class=\"dataframe\">\n",
       "  <thead>\n",
       "    <tr style=\"text-align: right;\">\n",
       "      <th></th>\n",
       "      <th>gameId</th>\n",
       "      <th>timeRemaining</th>\n",
       "      <th>periodNumber</th>\n",
       "      <th>timeInPeriod</th>\n",
       "      <th>isGoal</th>\n",
       "      <th>shotType</th>\n",
       "      <th>emptyNet</th>\n",
       "      <th>xCoord</th>\n",
       "      <th>yCoord</th>\n",
       "      <th>zoneCode</th>\n",
       "      <th>...</th>\n",
       "      <th>shootingPlayer</th>\n",
       "      <th>goalieInNet</th>\n",
       "      <th>previousEvent</th>\n",
       "      <th>timeDiff</th>\n",
       "      <th>previousEventX</th>\n",
       "      <th>previousEventY</th>\n",
       "      <th>rebound</th>\n",
       "      <th>distanceDiff</th>\n",
       "      <th>shotAngleDiff</th>\n",
       "      <th>speed</th>\n",
       "    </tr>\n",
       "  </thead>\n",
       "  <tbody>\n",
       "    <tr>\n",
       "      <th>0</th>\n",
       "      <td>2016020001</td>\n",
       "      <td>1129</td>\n",
       "      <td>1</td>\n",
       "      <td>01:11</td>\n",
       "      <td>0</td>\n",
       "      <td>wrist</td>\n",
       "      <td>0</td>\n",
       "      <td>-77.0</td>\n",
       "      <td>5.0</td>\n",
       "      <td>O</td>\n",
       "      <td>...</td>\n",
       "      <td>Mitch Marner</td>\n",
       "      <td>Craig Anderson</td>\n",
       "      <td>blocked-shot</td>\n",
       "      <td>1.0</td>\n",
       "      <td>-61.0</td>\n",
       "      <td>11.0</td>\n",
       "      <td>0</td>\n",
       "      <td>17.088007</td>\n",
       "      <td>0.000000</td>\n",
       "      <td>17.088007</td>\n",
       "    </tr>\n",
       "    <tr>\n",
       "      <th>1</th>\n",
       "      <td>2016020001</td>\n",
       "      <td>1027</td>\n",
       "      <td>1</td>\n",
       "      <td>02:53</td>\n",
       "      <td>0</td>\n",
       "      <td>wrist</td>\n",
       "      <td>0</td>\n",
       "      <td>86.0</td>\n",
       "      <td>13.0</td>\n",
       "      <td>O</td>\n",
       "      <td>...</td>\n",
       "      <td>Chris Kelly</td>\n",
       "      <td>Frederik Andersen</td>\n",
       "      <td>giveaway</td>\n",
       "      <td>5.0</td>\n",
       "      <td>54.0</td>\n",
       "      <td>-5.0</td>\n",
       "      <td>0</td>\n",
       "      <td>36.715120</td>\n",
       "      <td>0.000000</td>\n",
       "      <td>7.343024</td>\n",
       "    </tr>\n",
       "    <tr>\n",
       "      <th>2</th>\n",
       "      <td>2016020001</td>\n",
       "      <td>959</td>\n",
       "      <td>1</td>\n",
       "      <td>04:01</td>\n",
       "      <td>0</td>\n",
       "      <td>wrist</td>\n",
       "      <td>0</td>\n",
       "      <td>23.0</td>\n",
       "      <td>-38.0</td>\n",
       "      <td>N</td>\n",
       "      <td>...</td>\n",
       "      <td>Cody Ceci</td>\n",
       "      <td>Frederik Andersen</td>\n",
       "      <td>missed-shot</td>\n",
       "      <td>18.0</td>\n",
       "      <td>-72.0</td>\n",
       "      <td>0.0</td>\n",
       "      <td>0</td>\n",
       "      <td>102.318131</td>\n",
       "      <td>0.000000</td>\n",
       "      <td>5.684341</td>\n",
       "    </tr>\n",
       "    <tr>\n",
       "      <th>3</th>\n",
       "      <td>2016020001</td>\n",
       "      <td>914</td>\n",
       "      <td>1</td>\n",
       "      <td>04:46</td>\n",
       "      <td>0</td>\n",
       "      <td>slap</td>\n",
       "      <td>0</td>\n",
       "      <td>33.0</td>\n",
       "      <td>-15.0</td>\n",
       "      <td>O</td>\n",
       "      <td>...</td>\n",
       "      <td>Erik Karlsson</td>\n",
       "      <td>Frederik Andersen</td>\n",
       "      <td>missed-shot</td>\n",
       "      <td>19.0</td>\n",
       "      <td>77.0</td>\n",
       "      <td>-2.0</td>\n",
       "      <td>0</td>\n",
       "      <td>45.880279</td>\n",
       "      <td>0.000000</td>\n",
       "      <td>2.414752</td>\n",
       "    </tr>\n",
       "    <tr>\n",
       "      <th>4</th>\n",
       "      <td>2016020001</td>\n",
       "      <td>794</td>\n",
       "      <td>1</td>\n",
       "      <td>06:46</td>\n",
       "      <td>0</td>\n",
       "      <td>wrist</td>\n",
       "      <td>0</td>\n",
       "      <td>-34.0</td>\n",
       "      <td>28.0</td>\n",
       "      <td>O</td>\n",
       "      <td>...</td>\n",
       "      <td>Martin Marincin</td>\n",
       "      <td>Craig Anderson</td>\n",
       "      <td>hit</td>\n",
       "      <td>16.0</td>\n",
       "      <td>47.0</td>\n",
       "      <td>34.0</td>\n",
       "      <td>0</td>\n",
       "      <td>81.221918</td>\n",
       "      <td>0.000000</td>\n",
       "      <td>5.076370</td>\n",
       "    </tr>\n",
       "    <tr>\n",
       "      <th>...</th>\n",
       "      <td>...</td>\n",
       "      <td>...</td>\n",
       "      <td>...</td>\n",
       "      <td>...</td>\n",
       "      <td>...</td>\n",
       "      <td>...</td>\n",
       "      <td>...</td>\n",
       "      <td>...</td>\n",
       "      <td>...</td>\n",
       "      <td>...</td>\n",
       "      <td>...</td>\n",
       "      <td>...</td>\n",
       "      <td>...</td>\n",
       "      <td>...</td>\n",
       "      <td>...</td>\n",
       "      <td>...</td>\n",
       "      <td>...</td>\n",
       "      <td>...</td>\n",
       "      <td>...</td>\n",
       "      <td>...</td>\n",
       "      <td>...</td>\n",
       "    </tr>\n",
       "    <tr>\n",
       "      <th>305764</th>\n",
       "      <td>2019021082</td>\n",
       "      <td>195</td>\n",
       "      <td>3</td>\n",
       "      <td>16:45</td>\n",
       "      <td>0</td>\n",
       "      <td>backhand</td>\n",
       "      <td>0</td>\n",
       "      <td>77.0</td>\n",
       "      <td>-23.0</td>\n",
       "      <td>O</td>\n",
       "      <td>...</td>\n",
       "      <td>Nicholas Paul</td>\n",
       "      <td>Cal Petersen</td>\n",
       "      <td>blocked-shot</td>\n",
       "      <td>21.0</td>\n",
       "      <td>-72.0</td>\n",
       "      <td>-21.0</td>\n",
       "      <td>0</td>\n",
       "      <td>149.013422</td>\n",
       "      <td>0.000000</td>\n",
       "      <td>7.095877</td>\n",
       "    </tr>\n",
       "    <tr>\n",
       "      <th>305765</th>\n",
       "      <td>2019021082</td>\n",
       "      <td>160</td>\n",
       "      <td>3</td>\n",
       "      <td>17:20</td>\n",
       "      <td>0</td>\n",
       "      <td>slap</td>\n",
       "      <td>0</td>\n",
       "      <td>-76.0</td>\n",
       "      <td>38.0</td>\n",
       "      <td>O</td>\n",
       "      <td>...</td>\n",
       "      <td>Drew Doughty</td>\n",
       "      <td>Craig Anderson</td>\n",
       "      <td>hit</td>\n",
       "      <td>16.0</td>\n",
       "      <td>-95.0</td>\n",
       "      <td>-17.0</td>\n",
       "      <td>0</td>\n",
       "      <td>58.189346</td>\n",
       "      <td>0.000000</td>\n",
       "      <td>3.636834</td>\n",
       "    </tr>\n",
       "    <tr>\n",
       "      <th>305766</th>\n",
       "      <td>2019021082</td>\n",
       "      <td>158</td>\n",
       "      <td>3</td>\n",
       "      <td>17:22</td>\n",
       "      <td>0</td>\n",
       "      <td>backhand</td>\n",
       "      <td>0</td>\n",
       "      <td>-79.0</td>\n",
       "      <td>10.0</td>\n",
       "      <td>O</td>\n",
       "      <td>...</td>\n",
       "      <td>Gabriel Vilardi</td>\n",
       "      <td>Craig Anderson</td>\n",
       "      <td>shot-on-goal</td>\n",
       "      <td>2.0</td>\n",
       "      <td>-76.0</td>\n",
       "      <td>38.0</td>\n",
       "      <td>1</td>\n",
       "      <td>28.160256</td>\n",
       "      <td>26.113913</td>\n",
       "      <td>14.080128</td>\n",
       "    </tr>\n",
       "    <tr>\n",
       "      <th>305767</th>\n",
       "      <td>2019021082</td>\n",
       "      <td>70</td>\n",
       "      <td>3</td>\n",
       "      <td>18:50</td>\n",
       "      <td>0</td>\n",
       "      <td>snap</td>\n",
       "      <td>0</td>\n",
       "      <td>81.0</td>\n",
       "      <td>-7.0</td>\n",
       "      <td>O</td>\n",
       "      <td>...</td>\n",
       "      <td>Thomas Chabot</td>\n",
       "      <td>Cal Petersen</td>\n",
       "      <td>missed-shot</td>\n",
       "      <td>32.0</td>\n",
       "      <td>-60.0</td>\n",
       "      <td>40.0</td>\n",
       "      <td>0</td>\n",
       "      <td>148.627050</td>\n",
       "      <td>0.000000</td>\n",
       "      <td>4.644595</td>\n",
       "    </tr>\n",
       "    <tr>\n",
       "      <th>305768</th>\n",
       "      <td>2019021082</td>\n",
       "      <td>21</td>\n",
       "      <td>3</td>\n",
       "      <td>19:39</td>\n",
       "      <td>0</td>\n",
       "      <td>snap</td>\n",
       "      <td>0</td>\n",
       "      <td>67.0</td>\n",
       "      <td>-14.0</td>\n",
       "      <td>O</td>\n",
       "      <td>...</td>\n",
       "      <td>Rudolfs Balcers</td>\n",
       "      <td>Cal Petersen</td>\n",
       "      <td>missed-shot</td>\n",
       "      <td>24.0</td>\n",
       "      <td>-78.0</td>\n",
       "      <td>29.0</td>\n",
       "      <td>0</td>\n",
       "      <td>151.241529</td>\n",
       "      <td>0.000000</td>\n",
       "      <td>6.301730</td>\n",
       "    </tr>\n",
       "  </tbody>\n",
       "</table>\n",
       "<p>305769 rows × 24 columns</p>\n",
       "</div>"
      ],
      "text/plain": [
       "            gameId  timeRemaining  periodNumber timeInPeriod  isGoal  \\\n",
       "0       2016020001           1129             1        01:11       0   \n",
       "1       2016020001           1027             1        02:53       0   \n",
       "2       2016020001            959             1        04:01       0   \n",
       "3       2016020001            914             1        04:46       0   \n",
       "4       2016020001            794             1        06:46       0   \n",
       "...            ...            ...           ...          ...     ...   \n",
       "305764  2019021082            195             3        16:45       0   \n",
       "305765  2019021082            160             3        17:20       0   \n",
       "305766  2019021082            158             3        17:22       0   \n",
       "305767  2019021082             70             3        18:50       0   \n",
       "305768  2019021082             21             3        19:39       0   \n",
       "\n",
       "        shotType  emptyNet  xCoord  yCoord zoneCode  ...   shootingPlayer  \\\n",
       "0          wrist         0   -77.0     5.0        O  ...     Mitch Marner   \n",
       "1          wrist         0    86.0    13.0        O  ...      Chris Kelly   \n",
       "2          wrist         0    23.0   -38.0        N  ...        Cody Ceci   \n",
       "3           slap         0    33.0   -15.0        O  ...    Erik Karlsson   \n",
       "4          wrist         0   -34.0    28.0        O  ...  Martin Marincin   \n",
       "...          ...       ...     ...     ...      ...  ...              ...   \n",
       "305764  backhand         0    77.0   -23.0        O  ...    Nicholas Paul   \n",
       "305765      slap         0   -76.0    38.0        O  ...     Drew Doughty   \n",
       "305766  backhand         0   -79.0    10.0        O  ...  Gabriel Vilardi   \n",
       "305767      snap         0    81.0    -7.0        O  ...    Thomas Chabot   \n",
       "305768      snap         0    67.0   -14.0        O  ...  Rudolfs Balcers   \n",
       "\n",
       "              goalieInNet  previousEvent  timeDiff previousEventX  \\\n",
       "0          Craig Anderson   blocked-shot       1.0          -61.0   \n",
       "1       Frederik Andersen       giveaway       5.0           54.0   \n",
       "2       Frederik Andersen    missed-shot      18.0          -72.0   \n",
       "3       Frederik Andersen    missed-shot      19.0           77.0   \n",
       "4          Craig Anderson            hit      16.0           47.0   \n",
       "...                   ...            ...       ...            ...   \n",
       "305764       Cal Petersen   blocked-shot      21.0          -72.0   \n",
       "305765     Craig Anderson            hit      16.0          -95.0   \n",
       "305766     Craig Anderson   shot-on-goal       2.0          -76.0   \n",
       "305767       Cal Petersen    missed-shot      32.0          -60.0   \n",
       "305768       Cal Petersen    missed-shot      24.0          -78.0   \n",
       "\n",
       "       previousEventY rebound  distanceDiff  shotAngleDiff      speed  \n",
       "0                11.0       0     17.088007       0.000000  17.088007  \n",
       "1                -5.0       0     36.715120       0.000000   7.343024  \n",
       "2                 0.0       0    102.318131       0.000000   5.684341  \n",
       "3                -2.0       0     45.880279       0.000000   2.414752  \n",
       "4                34.0       0     81.221918       0.000000   5.076370  \n",
       "...               ...     ...           ...            ...        ...  \n",
       "305764          -21.0       0    149.013422       0.000000   7.095877  \n",
       "305765          -17.0       0     58.189346       0.000000   3.636834  \n",
       "305766           38.0       1     28.160256      26.113913  14.080128  \n",
       "305767           40.0       0    148.627050       0.000000   4.644595  \n",
       "305768           29.0       0    151.241529       0.000000   6.301730  \n",
       "\n",
       "[305769 rows x 24 columns]"
      ]
     },
     "execution_count": 82,
     "metadata": {},
     "output_type": "execute_result"
    }
   ],
   "source": [
    "train_df"
   ]
  },
  {
   "cell_type": "code",
   "execution_count": 83,
   "metadata": {},
   "outputs": [],
   "source": [
    "#Data Preprocessing\n",
    "dropped_columns = ['gameId',\n",
    "                   'timeRemaining',\n",
    "                   'periodNumber',\n",
    "                   'timeInPeriod',\n",
    "                   'xCoord',\n",
    "                   'yCoord',\n",
    "                   'zoneCode',\n",
    "                   'shootingTeam',\n",
    "                   'shootingPlayer',\n",
    "                   'previousEventX',\n",
    "                   'previousEventY',\n",
    "                   'goalieInNet',\n",
    "                   'shootingTeamSide',\n",
    "                   ]\n",
    "train_df_clean = train_df.drop(columns=dropped_columns)\n",
    "\n",
    "#Drop rows with missing values\n",
    "train_df_clean = train_df_clean.dropna()\n",
    "\n",
    "\n",
    "#one hot encoding\n",
    "train_df_clean = pd.get_dummies(train_df_clean,columns = ['shotType','previousEvent'])\n",
    "\n"
   ]
  },
  {
   "cell_type": "markdown",
   "metadata": {},
   "source": [
    "## Decision Tree"
   ]
  },
  {
   "cell_type": "code",
   "execution_count": 84,
   "metadata": {},
   "outputs": [],
   "source": [
    "# load path and make dirs to store model\n",
    "model_path = os.getenv(\"MODEL_PATH\") #edit .env file to change path\n",
    "test_path = os.path.join(model_path, \"decision_tree\")\n",
    "if not os.path.exists(test_path):\n",
    "    os.makedirs(test_path)\n"
   ]
  },
  {
   "cell_type": "code",
   "execution_count": null,
   "metadata": {},
   "outputs": [],
   "source": [
    "\n",
    "# Define the sweep configuration\n",
    "sweep_config = {\n",
    "    'method': 'bayes',\n",
    "    'metric': {\n",
    "        'name': 'roc_auc_score',\n",
    "        'goal': 'maximize'\n",
    "    },\n",
    "    'parameters': {\n",
    "        'criterion': {\n",
    "            'values': ['gini', 'entropy']\n",
    "        },\n",
    "        'splitter': {\n",
    "            'values': ['best', 'random']\n",
    "        },\n",
    "        'max_depth': {\n",
    "            'values': [None,5, 10, 15, 20, 25, 30, 35, 40, 45, 50]\n",
    "        },\n",
    "        'min_samples_split': {\n",
    "            'values': [2, 5, 10]\n",
    "        },\n",
    "        'min_samples_leaf': {\n",
    "            'values': [1, 2, 4]\n",
    "        },\n",
    "        'max_features': {\n",
    "            'values': ['sqrt', 'log2']\n",
    "        }\n",
    "        \n",
    "    }\n",
    "}\n",
    "\n",
    "# Define the training function\n",
    "def train(config=None):\n",
    "    # Initialize a new wandb run\n",
    "    with wandb.init(dir=dir_path, \n",
    "                    group='decision_tree',\n",
    "                    job_type='log_hyperparameter_sweep',\n",
    "                    name=f'log_hyperparameter_sweep: decision_tree'):\n",
    "\n",
    "        # Get the hyperparameters\n",
    "        config = wandb.config\n",
    "\n",
    "       # Split the data into training and validation sets\n",
    "        X_train, X_val, y_train, y_val = train_test_split(train_df_clean.drop(columns='isGoal'), train_df_clean['isGoal'], test_size=0.3, stratify=train_df_clean['isGoal'])\n",
    "    \n",
    "        # Initialize the model\n",
    "        model = DecisionTreeClassifier(\n",
    "            criterion=config.criterion,\n",
    "            splitter=config.splitter,\n",
    "            max_depth=config.max_depth,\n",
    "            min_samples_split=config.min_samples_split,\n",
    "            min_samples_leaf=config.min_samples_leaf,\n",
    "            max_features=config.max_features\n",
    "        )\n",
    "\n",
    "        # Train the model\n",
    "        model.fit(X_train, y_train)\n",
    "\n",
    "        # Make predictions\n",
    "        y_pred = model.predict(X_val)\n",
    "\n",
    "        # Calculate metrics\n",
    "        precision = precision_score(y_val, y_pred)\n",
    "        recall = recall_score(y_val, y_pred)\n",
    "        f1 = f1_score(y_val, y_pred)\n",
    "        roc_auc = roc_auc_score(y_val, y_pred)\n",
    "        avg_precision = average_precision_score(y_val, y_pred)\n",
    "\n",
    "        # Log metrics to wandb\n",
    "        wandb.log({\n",
    "            'precision_score': precision,\n",
    "            'recall_score': recall,\n",
    "            'f1_score': f1,\n",
    "            'roc_auc_score': roc_auc,\n",
    "            'average_precision_score': avg_precision\n",
    "        })\n",
    "\n",
    "   \n",
    "\n",
    "\n"
   ]
  },
  {
   "cell_type": "code",
   "execution_count": 86,
   "metadata": {},
   "outputs": [
    {
     "name": "stdout",
     "output_type": "stream",
     "text": [
      "Create sweep with ID: 1ra4oxhs\n",
      "Sweep URL: https://wandb.ai/team08/IFT6758.2024-B08/sweeps/1ra4oxhs\n"
     ]
    },
    {
     "name": "stderr",
     "output_type": "stream",
     "text": [
      "wandb: Agent Starting Run: 2qd1axgz with config:\n",
      "wandb: \tcriterion: gini\n",
      "wandb: \tmax_depth: 45\n",
      "wandb: \tmax_features: log2\n",
      "wandb: \tmin_samples_leaf: 1\n",
      "wandb: \tmin_samples_split: 2\n",
      "wandb: \tsplitter: random\n"
     ]
    },
    {
     "data": {
      "text/html": [
       "Tracking run with wandb version 0.18.3"
      ],
      "text/plain": [
       "<IPython.core.display.HTML object>"
      ]
     },
     "metadata": {},
     "output_type": "display_data"
    },
    {
     "data": {
      "text/html": [
       "Run data is saved locally in <code>..\\\\..\\\\local_data\\wandb\\run-20241122_040605-2qd1axgz</code>"
      ],
      "text/plain": [
       "<IPython.core.display.HTML object>"
      ]
     },
     "metadata": {},
     "output_type": "display_data"
    },
    {
     "data": {
      "text/html": [
       "Syncing run <strong><a href='https://wandb.ai/team08/IFT6758.2024-B08/runs/2qd1axgz' target=\"_blank\">log_hyperparameter_sweep: decision_tree</a></strong> to <a href='https://wandb.ai/team08/IFT6758.2024-B08' target=\"_blank\">Weights & Biases</a> (<a href='https://wandb.me/run' target=\"_blank\">docs</a>)<br/>Sweep page: <a href='https://wandb.ai/team08/IFT6758.2024-B08/sweeps/1ra4oxhs' target=\"_blank\">https://wandb.ai/team08/IFT6758.2024-B08/sweeps/1ra4oxhs</a>"
      ],
      "text/plain": [
       "<IPython.core.display.HTML object>"
      ]
     },
     "metadata": {},
     "output_type": "display_data"
    },
    {
     "data": {
      "text/html": [
       " View project at <a href='https://wandb.ai/team08/IFT6758.2024-B08' target=\"_blank\">https://wandb.ai/team08/IFT6758.2024-B08</a>"
      ],
      "text/plain": [
       "<IPython.core.display.HTML object>"
      ]
     },
     "metadata": {},
     "output_type": "display_data"
    },
    {
     "data": {
      "text/html": [
       " View sweep at <a href='https://wandb.ai/team08/IFT6758.2024-B08/sweeps/1ra4oxhs' target=\"_blank\">https://wandb.ai/team08/IFT6758.2024-B08/sweeps/1ra4oxhs</a>"
      ],
      "text/plain": [
       "<IPython.core.display.HTML object>"
      ]
     },
     "metadata": {},
     "output_type": "display_data"
    },
    {
     "data": {
      "text/html": [
       " View run at <a href='https://wandb.ai/team08/IFT6758.2024-B08/runs/2qd1axgz' target=\"_blank\">https://wandb.ai/team08/IFT6758.2024-B08/runs/2qd1axgz</a>"
      ],
      "text/plain": [
       "<IPython.core.display.HTML object>"
      ]
     },
     "metadata": {},
     "output_type": "display_data"
    },
    {
     "data": {
      "application/vnd.jupyter.widget-view+json": {
       "model_id": "135573f2c2414f7b8611bb952833db6a",
       "version_major": 2,
       "version_minor": 0
      },
      "text/plain": [
       "VBox(children=(Label(value='0.005 MB of 0.005 MB uploaded\\r'), FloatProgress(value=1.0, max=1.0)))"
      ]
     },
     "metadata": {},
     "output_type": "display_data"
    },
    {
     "data": {
      "text/html": [
       "<style>\n",
       "    table.wandb td:nth-child(1) { padding: 0 10px; text-align: left ; width: auto;} td:nth-child(2) {text-align: left ; width: 100%}\n",
       "    .wandb-row { display: flex; flex-direction: row; flex-wrap: wrap; justify-content: flex-start; width: 100% }\n",
       "    .wandb-col { display: flex; flex-direction: column; flex-basis: 100%; flex: 1; padding: 10px; }\n",
       "    </style>\n",
       "<div class=\"wandb-row\"><div class=\"wandb-col\"><h3>Run history:</h3><br/><table class=\"wandb\"><tr><td>average_precision_score</td><td>▁</td></tr><tr><td>f1_score</td><td>▁</td></tr><tr><td>precision_score</td><td>▁</td></tr><tr><td>recall_score</td><td>▁</td></tr><tr><td>roc_auc_score</td><td>▁</td></tr></table><br/></div><div class=\"wandb-col\"><h3>Run summary:</h3><br/><table class=\"wandb\"><tr><td>average_precision_score</td><td>0.11925</td></tr><tr><td>f1_score</td><td>0.20495</td></tr><tr><td>precision_score</td><td>0.20344</td></tr><tr><td>recall_score</td><td>0.20649</td></tr><tr><td>roc_auc_score</td><td>0.55965</td></tr></table><br/></div></div>"
      ],
      "text/plain": [
       "<IPython.core.display.HTML object>"
      ]
     },
     "metadata": {},
     "output_type": "display_data"
    },
    {
     "data": {
      "text/html": [
       " View run <strong style=\"color:#cdcd00\">log_hyperparameter_sweep: decision_tree</strong> at: <a href='https://wandb.ai/team08/IFT6758.2024-B08/runs/2qd1axgz' target=\"_blank\">https://wandb.ai/team08/IFT6758.2024-B08/runs/2qd1axgz</a><br/> View project at: <a href='https://wandb.ai/team08/IFT6758.2024-B08' target=\"_blank\">https://wandb.ai/team08/IFT6758.2024-B08</a><br/>Synced 5 W&B file(s), 0 media file(s), 0 artifact file(s) and 0 other file(s)"
      ],
      "text/plain": [
       "<IPython.core.display.HTML object>"
      ]
     },
     "metadata": {},
     "output_type": "display_data"
    },
    {
     "data": {
      "text/html": [
       "Find logs at: <code>..\\\\..\\\\local_data\\wandb\\run-20241122_040605-2qd1axgz\\logs</code>"
      ],
      "text/plain": [
       "<IPython.core.display.HTML object>"
      ]
     },
     "metadata": {},
     "output_type": "display_data"
    },
    {
     "name": "stderr",
     "output_type": "stream",
     "text": [
      "wandb: Sweep Agent: Waiting for job.\n",
      "wandb: Job received.\n",
      "wandb: Agent Starting Run: zc0i6x5c with config:\n",
      "wandb: \tcriterion: entropy\n",
      "wandb: \tmax_depth: None\n",
      "wandb: \tmax_features: log2\n",
      "wandb: \tmin_samples_leaf: 4\n",
      "wandb: \tmin_samples_split: 2\n",
      "wandb: \tsplitter: best\n"
     ]
    },
    {
     "data": {
      "text/html": [
       "Tracking run with wandb version 0.18.3"
      ],
      "text/plain": [
       "<IPython.core.display.HTML object>"
      ]
     },
     "metadata": {},
     "output_type": "display_data"
    },
    {
     "data": {
      "text/html": [
       "Run data is saved locally in <code>..\\\\..\\\\local_data\\wandb\\run-20241122_040633-zc0i6x5c</code>"
      ],
      "text/plain": [
       "<IPython.core.display.HTML object>"
      ]
     },
     "metadata": {},
     "output_type": "display_data"
    },
    {
     "data": {
      "text/html": [
       "Syncing run <strong><a href='https://wandb.ai/team08/IFT6758.2024-B08/runs/zc0i6x5c' target=\"_blank\">log_hyperparameter_sweep: decision_tree</a></strong> to <a href='https://wandb.ai/team08/IFT6758.2024-B08' target=\"_blank\">Weights & Biases</a> (<a href='https://wandb.me/run' target=\"_blank\">docs</a>)<br/>Sweep page: <a href='https://wandb.ai/team08/IFT6758.2024-B08/sweeps/1ra4oxhs' target=\"_blank\">https://wandb.ai/team08/IFT6758.2024-B08/sweeps/1ra4oxhs</a>"
      ],
      "text/plain": [
       "<IPython.core.display.HTML object>"
      ]
     },
     "metadata": {},
     "output_type": "display_data"
    },
    {
     "data": {
      "text/html": [
       " View project at <a href='https://wandb.ai/team08/IFT6758.2024-B08' target=\"_blank\">https://wandb.ai/team08/IFT6758.2024-B08</a>"
      ],
      "text/plain": [
       "<IPython.core.display.HTML object>"
      ]
     },
     "metadata": {},
     "output_type": "display_data"
    },
    {
     "data": {
      "text/html": [
       " View sweep at <a href='https://wandb.ai/team08/IFT6758.2024-B08/sweeps/1ra4oxhs' target=\"_blank\">https://wandb.ai/team08/IFT6758.2024-B08/sweeps/1ra4oxhs</a>"
      ],
      "text/plain": [
       "<IPython.core.display.HTML object>"
      ]
     },
     "metadata": {},
     "output_type": "display_data"
    },
    {
     "data": {
      "text/html": [
       " View run at <a href='https://wandb.ai/team08/IFT6758.2024-B08/runs/zc0i6x5c' target=\"_blank\">https://wandb.ai/team08/IFT6758.2024-B08/runs/zc0i6x5c</a>"
      ],
      "text/plain": [
       "<IPython.core.display.HTML object>"
      ]
     },
     "metadata": {},
     "output_type": "display_data"
    },
    {
     "data": {
      "application/vnd.jupyter.widget-view+json": {
       "model_id": "91c5ffef2f1d445a93ff5555c65b2c6a",
       "version_major": 2,
       "version_minor": 0
      },
      "text/plain": [
       "VBox(children=(Label(value='0.005 MB of 0.005 MB uploaded\\r'), FloatProgress(value=1.0, max=1.0)))"
      ]
     },
     "metadata": {},
     "output_type": "display_data"
    },
    {
     "data": {
      "text/html": [
       "<style>\n",
       "    table.wandb td:nth-child(1) { padding: 0 10px; text-align: left ; width: auto;} td:nth-child(2) {text-align: left ; width: 100%}\n",
       "    .wandb-row { display: flex; flex-direction: row; flex-wrap: wrap; justify-content: flex-start; width: 100% }\n",
       "    .wandb-col { display: flex; flex-direction: column; flex-basis: 100%; flex: 1; padding: 10px; }\n",
       "    </style>\n",
       "<div class=\"wandb-row\"><div class=\"wandb-col\"><h3>Run history:</h3><br/><table class=\"wandb\"><tr><td>average_precision_score</td><td>▁</td></tr><tr><td>f1_score</td><td>▁</td></tr><tr><td>precision_score</td><td>▁</td></tr><tr><td>recall_score</td><td>▁</td></tr><tr><td>roc_auc_score</td><td>▁</td></tr></table><br/></div><div class=\"wandb-col\"><h3>Run summary:</h3><br/><table class=\"wandb\"><tr><td>average_precision_score</td><td>0.12832</td></tr><tr><td>f1_score</td><td>0.1938</td></tr><tr><td>precision_score</td><td>0.32029</td></tr><tr><td>recall_score</td><td>0.13894</td></tr><tr><td>roc_auc_score</td><td>0.55357</td></tr></table><br/></div></div>"
      ],
      "text/plain": [
       "<IPython.core.display.HTML object>"
      ]
     },
     "metadata": {},
     "output_type": "display_data"
    },
    {
     "data": {
      "text/html": [
       " View run <strong style=\"color:#cdcd00\">log_hyperparameter_sweep: decision_tree</strong> at: <a href='https://wandb.ai/team08/IFT6758.2024-B08/runs/zc0i6x5c' target=\"_blank\">https://wandb.ai/team08/IFT6758.2024-B08/runs/zc0i6x5c</a><br/> View project at: <a href='https://wandb.ai/team08/IFT6758.2024-B08' target=\"_blank\">https://wandb.ai/team08/IFT6758.2024-B08</a><br/>Synced 5 W&B file(s), 0 media file(s), 0 artifact file(s) and 0 other file(s)"
      ],
      "text/plain": [
       "<IPython.core.display.HTML object>"
      ]
     },
     "metadata": {},
     "output_type": "display_data"
    },
    {
     "data": {
      "text/html": [
       "Find logs at: <code>..\\\\..\\\\local_data\\wandb\\run-20241122_040633-zc0i6x5c\\logs</code>"
      ],
      "text/plain": [
       "<IPython.core.display.HTML object>"
      ]
     },
     "metadata": {},
     "output_type": "display_data"
    },
    {
     "name": "stderr",
     "output_type": "stream",
     "text": [
      "wandb: Agent Starting Run: e27ef9uw with config:\n",
      "wandb: \tcriterion: entropy\n",
      "wandb: \tmax_depth: 25\n",
      "wandb: \tmax_features: log2\n",
      "wandb: \tmin_samples_leaf: 2\n",
      "wandb: \tmin_samples_split: 2\n",
      "wandb: \tsplitter: random\n"
     ]
    },
    {
     "data": {
      "text/html": [
       "Tracking run with wandb version 0.18.3"
      ],
      "text/plain": [
       "<IPython.core.display.HTML object>"
      ]
     },
     "metadata": {},
     "output_type": "display_data"
    },
    {
     "data": {
      "text/html": [
       "Run data is saved locally in <code>..\\\\..\\\\local_data\\wandb\\run-20241122_040638-e27ef9uw</code>"
      ],
      "text/plain": [
       "<IPython.core.display.HTML object>"
      ]
     },
     "metadata": {},
     "output_type": "display_data"
    },
    {
     "data": {
      "text/html": [
       "Syncing run <strong><a href='https://wandb.ai/team08/IFT6758.2024-B08/runs/e27ef9uw' target=\"_blank\">log_hyperparameter_sweep: decision_tree</a></strong> to <a href='https://wandb.ai/team08/IFT6758.2024-B08' target=\"_blank\">Weights & Biases</a> (<a href='https://wandb.me/run' target=\"_blank\">docs</a>)<br/>Sweep page: <a href='https://wandb.ai/team08/IFT6758.2024-B08/sweeps/1ra4oxhs' target=\"_blank\">https://wandb.ai/team08/IFT6758.2024-B08/sweeps/1ra4oxhs</a>"
      ],
      "text/plain": [
       "<IPython.core.display.HTML object>"
      ]
     },
     "metadata": {},
     "output_type": "display_data"
    },
    {
     "data": {
      "text/html": [
       " View project at <a href='https://wandb.ai/team08/IFT6758.2024-B08' target=\"_blank\">https://wandb.ai/team08/IFT6758.2024-B08</a>"
      ],
      "text/plain": [
       "<IPython.core.display.HTML object>"
      ]
     },
     "metadata": {},
     "output_type": "display_data"
    },
    {
     "data": {
      "text/html": [
       " View sweep at <a href='https://wandb.ai/team08/IFT6758.2024-B08/sweeps/1ra4oxhs' target=\"_blank\">https://wandb.ai/team08/IFT6758.2024-B08/sweeps/1ra4oxhs</a>"
      ],
      "text/plain": [
       "<IPython.core.display.HTML object>"
      ]
     },
     "metadata": {},
     "output_type": "display_data"
    },
    {
     "data": {
      "text/html": [
       " View run at <a href='https://wandb.ai/team08/IFT6758.2024-B08/runs/e27ef9uw' target=\"_blank\">https://wandb.ai/team08/IFT6758.2024-B08/runs/e27ef9uw</a>"
      ],
      "text/plain": [
       "<IPython.core.display.HTML object>"
      ]
     },
     "metadata": {},
     "output_type": "display_data"
    },
    {
     "data": {
      "application/vnd.jupyter.widget-view+json": {
       "model_id": "b8efe2d1cb094c1883c3b383dd019868",
       "version_major": 2,
       "version_minor": 0
      },
      "text/plain": [
       "VBox(children=(Label(value='0.005 MB of 0.005 MB uploaded\\r'), FloatProgress(value=1.0, max=1.0)))"
      ]
     },
     "metadata": {},
     "output_type": "display_data"
    },
    {
     "data": {
      "text/html": [
       "<style>\n",
       "    table.wandb td:nth-child(1) { padding: 0 10px; text-align: left ; width: auto;} td:nth-child(2) {text-align: left ; width: 100%}\n",
       "    .wandb-row { display: flex; flex-direction: row; flex-wrap: wrap; justify-content: flex-start; width: 100% }\n",
       "    .wandb-col { display: flex; flex-direction: column; flex-basis: 100%; flex: 1; padding: 10px; }\n",
       "    </style>\n",
       "<div class=\"wandb-row\"><div class=\"wandb-col\"><h3>Run history:</h3><br/><table class=\"wandb\"><tr><td>average_precision_score</td><td>▁</td></tr><tr><td>f1_score</td><td>▁</td></tr><tr><td>precision_score</td><td>▁</td></tr><tr><td>recall_score</td><td>▁</td></tr><tr><td>roc_auc_score</td><td>▁</td></tr></table><br/></div><div class=\"wandb-col\"><h3>Run summary:</h3><br/><table class=\"wandb\"><tr><td>average_precision_score</td><td>0.1209</td></tr><tr><td>f1_score</td><td>0.09318</td></tr><tr><td>precision_score</td><td>0.56098</td></tr><tr><td>recall_score</td><td>0.05081</td></tr><tr><td>roc_auc_score</td><td>0.52326</td></tr></table><br/></div></div>"
      ],
      "text/plain": [
       "<IPython.core.display.HTML object>"
      ]
     },
     "metadata": {},
     "output_type": "display_data"
    },
    {
     "data": {
      "text/html": [
       " View run <strong style=\"color:#cdcd00\">log_hyperparameter_sweep: decision_tree</strong> at: <a href='https://wandb.ai/team08/IFT6758.2024-B08/runs/e27ef9uw' target=\"_blank\">https://wandb.ai/team08/IFT6758.2024-B08/runs/e27ef9uw</a><br/> View project at: <a href='https://wandb.ai/team08/IFT6758.2024-B08' target=\"_blank\">https://wandb.ai/team08/IFT6758.2024-B08</a><br/>Synced 5 W&B file(s), 0 media file(s), 0 artifact file(s) and 0 other file(s)"
      ],
      "text/plain": [
       "<IPython.core.display.HTML object>"
      ]
     },
     "metadata": {},
     "output_type": "display_data"
    },
    {
     "data": {
      "text/html": [
       "Find logs at: <code>..\\\\..\\\\local_data\\wandb\\run-20241122_040638-e27ef9uw\\logs</code>"
      ],
      "text/plain": [
       "<IPython.core.display.HTML object>"
      ]
     },
     "metadata": {},
     "output_type": "display_data"
    },
    {
     "name": "stderr",
     "output_type": "stream",
     "text": [
      "wandb: Ctrl + C detected. Stopping sweep.\n"
     ]
    }
   ],
   "source": [
    "sweep_id = wandb.sweep(sweep_config, project=project_name, entity=entity_name)\n",
    "wandb.agent(sweep_id, function=train, count=100)\n",
    "wandb.teardown()"
   ]
  },
  {
   "cell_type": "code",
   "execution_count": null,
   "metadata": {},
   "outputs": [],
   "source": []
  }
 ],
 "metadata": {
  "kernelspec": {
   "display_name": "Python 3",
   "language": "python",
   "name": "python3"
  },
  "language_info": {
   "codemirror_mode": {
    "name": "ipython",
    "version": 3
   },
   "file_extension": ".py",
   "mimetype": "text/x-python",
   "name": "python",
   "nbconvert_exporter": "python",
   "pygments_lexer": "ipython3",
   "version": "3.12.6"
  }
 },
 "nbformat": 4,
 "nbformat_minor": 2
}
