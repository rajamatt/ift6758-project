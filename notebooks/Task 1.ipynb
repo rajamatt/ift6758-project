{
 "cells": [
  {
   "cell_type": "markdown",
   "metadata": {},
   "source": [
    "# Task 1 - Data Acquisition\n",
    "\n",
    "In this task we want to fetch the NHL play-by-play data from the NHL API and store it locally. If a game already exists locally on the machine we don't want to fetch it from the API again. All we need to import is the `NHLDataFetcher` class which will handle all of this itself."
   ]
  },
  {
   "cell_type": "code",
   "execution_count": 1,
   "metadata": {},
   "outputs": [],
   "source": [
    "from ift6758.data.nhl_data_fetcher import NHLDataFetcher"
   ]
  },
  {
   "cell_type": "markdown",
   "metadata": {},
   "source": [
    "We can tell the `NHLDataFetcher` to fetch the play-by-play data for a specific game ID. If the game's JSON already exists locally on the machine the game will not be fetched again."
   ]
  },
  {
   "cell_type": "code",
   "execution_count": 3,
   "metadata": {},
   "outputs": [],
   "source": [
    "data_fetcher = NHLDataFetcher()\n",
    "data_fetcher.fetch_raw_game_data('2016020033')"
   ]
  },
  {
   "cell_type": "markdown",
   "metadata": {},
   "source": [
    "We can also use it to fetch the play-by-play data for games of an entire season (regular season and playoffs). This operation takes about 30 minutes on devices with an average CPU."
   ]
  },
  {
   "cell_type": "code",
   "execution_count": null,
   "metadata": {},
   "outputs": [],
   "source": [
    "data_fetcher.fetch_raw_season_data(2016)"
   ]
  },
  {
   "cell_type": "markdown",
   "metadata": {},
   "source": [
    "We can also fetch game data from a range of seasons. The following line will fetch the play-by-play game data for seasons 2017-2018 all the way to 2020-2021."
   ]
  },
  {
   "cell_type": "code",
   "execution_count": 5,
   "metadata": {},
   "outputs": [
    {
     "ename": "TypeError",
     "evalue": "replace() argument 2 must be str, not None",
     "output_type": "error",
     "traceback": [
      "\u001b[1;31m---------------------------------------------------------------------------\u001b[0m",
      "\u001b[1;31mTypeError\u001b[0m                                 Traceback (most recent call last)",
      "Cell \u001b[1;32mIn[5], line 1\u001b[0m\n\u001b[1;32m----> 1\u001b[0m \u001b[43mdata_fetcher\u001b[49m\u001b[38;5;241;43m.\u001b[39;49m\u001b[43mfetch_raw_season_data\u001b[49m\u001b[43m(\u001b[49m\u001b[38;5;241;43m2017\u001b[39;49m\u001b[43m,\u001b[49m\u001b[43m \u001b[49m\u001b[38;5;241;43m2020\u001b[39;49m\u001b[43m)\u001b[49m\n",
      "File \u001b[1;32mc:\\users\\mattr\\onedrive - polymtl.ca\\desktop\\school\\university\\maîtrise\\trimestre 01\\ift6758\\project\\ift6758-project\\ift6758\\data\\nhl_data_fetcher.py:108\u001b[0m, in \u001b[0;36mNHLDataFetcher.fetch_raw_season_data\u001b[1;34m(self, start_season, end_season)\u001b[0m\n\u001b[0;32m    106\u001b[0m \u001b[38;5;28;01mfor\u001b[39;00m season \u001b[38;5;129;01min\u001b[39;00m \u001b[38;5;28mlist\u001b[39m(\u001b[38;5;28mrange\u001b[39m(start_season, end_season \u001b[38;5;241m+\u001b[39m \u001b[38;5;241m1\u001b[39m)):\n\u001b[0;32m    107\u001b[0m     \u001b[38;5;28mself\u001b[39m\u001b[38;5;241m.\u001b[39mfetch_raw_regular_season_data(season)\n\u001b[1;32m--> 108\u001b[0m     \u001b[38;5;28;43mself\u001b[39;49m\u001b[38;5;241;43m.\u001b[39;49m\u001b[43mfetch_raw_playoff_season_data\u001b[49m\u001b[43m(\u001b[49m\u001b[43mseason\u001b[49m\u001b[43m)\u001b[49m\n",
      "File \u001b[1;32mc:\\users\\mattr\\onedrive - polymtl.ca\\desktop\\school\\university\\maîtrise\\trimestre 01\\ift6758\\project\\ift6758-project\\ift6758\\data\\nhl_data_fetcher.py:91\u001b[0m, in \u001b[0;36mNHLDataFetcher.fetch_raw_playoff_season_data\u001b[1;34m(self, season)\u001b[0m\n\u001b[0;32m     85\u001b[0m \u001b[38;5;250m\u001b[39m\u001b[38;5;124;03m\"\"\"Fetches and locally stores the raw JSON data from the play-by-play endpoint for a specific playoff season.\u001b[39;00m\n\u001b[0;32m     86\u001b[0m \n\u001b[0;32m     87\u001b[0m \u001b[38;5;124;03mArgs:\u001b[39;00m\n\u001b[0;32m     88\u001b[0m \u001b[38;5;124;03m    season (int): Playoff season to fetch the play-by-play data for.\u001b[39;00m\n\u001b[0;32m     89\u001b[0m \u001b[38;5;124;03m\"\"\"\u001b[39;00m\n\u001b[0;32m     90\u001b[0m \u001b[38;5;28;01mfor\u001b[39;00m game_id \u001b[38;5;129;01min\u001b[39;00m \u001b[38;5;28mself\u001b[39m\u001b[38;5;241m.\u001b[39mhelper\u001b[38;5;241m.\u001b[39mget_game_ids_for_season(season, \u001b[38;5;28;01mFalse\u001b[39;00m):\n\u001b[1;32m---> 91\u001b[0m     \u001b[38;5;28;43mself\u001b[39;49m\u001b[38;5;241;43m.\u001b[39;49m\u001b[43mfetch_raw_game_data\u001b[49m\u001b[43m(\u001b[49m\u001b[43mgame_id\u001b[49m\u001b[43m)\u001b[49m\n",
      "File \u001b[1;32mc:\\users\\mattr\\onedrive - polymtl.ca\\desktop\\school\\university\\maîtrise\\trimestre 01\\ift6758\\project\\ift6758-project\\ift6758\\data\\nhl_data_fetcher.py:63\u001b[0m, in \u001b[0;36mNHLDataFetcher.fetch_raw_game_data\u001b[1;34m(self, game_id)\u001b[0m\n\u001b[0;32m     60\u001b[0m \u001b[38;5;28;01mif\u001b[39;00m \u001b[38;5;28mself\u001b[39m\u001b[38;5;241m.\u001b[39mgame_already_fetched(game_id):\n\u001b[0;32m     61\u001b[0m     \u001b[38;5;28;01mreturn\u001b[39;00m\n\u001b[1;32m---> 63\u001b[0m pbp_endpoint \u001b[38;5;241m=\u001b[39m PLAY_BY_PLAY_ENDPOINT\u001b[38;5;241m.\u001b[39mreplace(\u001b[38;5;124m'\u001b[39m\u001b[38;5;124m{\u001b[39m\u001b[38;5;124mgame-id}\u001b[39m\u001b[38;5;124m'\u001b[39m, game_id)\n\u001b[0;32m     64\u001b[0m full_endpoint \u001b[38;5;241m=\u001b[39m API_URL \u001b[38;5;241m+\u001b[39m pbp_endpoint\n\u001b[0;32m     65\u001b[0m response \u001b[38;5;241m=\u001b[39m requests\u001b[38;5;241m.\u001b[39mget(full_endpoint)\n",
      "\u001b[1;31mTypeError\u001b[0m: replace() argument 2 must be str, not None"
     ]
    }
   ],
   "source": [
    "data_fetcher.fetch_raw_season_data(2017, 2020)"
   ]
  },
  {
   "cell_type": "markdown",
   "metadata": {},
   "source": [
    "If we don't want to fetch play-by-play game data for an entire season but only for the regular or playoff season, we can do that too:"
   ]
  },
  {
   "cell_type": "code",
   "execution_count": null,
   "metadata": {},
   "outputs": [],
   "source": [
    "data_fetcher.fetch_raw_regular_season_data(2017)\n",
    "data_fetcher.fetch_raw_playoff_season_data(2017)"
   ]
  }
 ],
 "metadata": {
  "kernelspec": {
   "display_name": "Python 3",
   "language": "python",
   "name": "python3"
  },
  "language_info": {
   "codemirror_mode": {
    "name": "ipython",
    "version": 3
   },
   "file_extension": ".py",
   "mimetype": "text/x-python",
   "name": "python",
   "nbconvert_exporter": "python",
   "pygments_lexer": "ipython3",
   "version": "3.11.7"
  }
 },
 "nbformat": 4,
 "nbformat_minor": 2
}
