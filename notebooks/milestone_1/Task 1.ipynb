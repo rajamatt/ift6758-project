{
 "cells": [
  {
   "cell_type": "markdown",
   "metadata": {},
   "source": [
    "# Task 1 - Data Acquisition\n",
    "\n",
    "In this task we want to fetch the NHL play-by-play data from the NHL API and store it locally. If a game already exists locally on the machine we don't want to fetch it from the API again. All we need to import is the `NHLDataFetcher` class which will handle all of this itself."
   ]
  },
  {
   "cell_type": "code",
   "execution_count": 1,
   "metadata": {},
   "outputs": [],
   "source": [
    "from ift6758.data.nhl_data_fetcher import NHLDataFetcher"
   ]
  },
  {
   "cell_type": "markdown",
   "metadata": {},
   "source": [
    "We can tell the `NHLDataFetcher` to fetch the play-by-play data for a specific game ID. If the game's JSON already exists locally on the machine the game will not be fetched again."
   ]
  },
  {
   "cell_type": "code",
   "execution_count": 2,
   "metadata": {},
   "outputs": [],
   "source": [
    "data_fetcher = NHLDataFetcher()\n",
    "data_fetcher.fetch_raw_game_data('2016020033')"
   ]
  },
  {
   "cell_type": "markdown",
   "metadata": {},
   "source": [
    "We can also use it to fetch the play-by-play data for games of an entire season (regular season and playoffs). This operation takes about 30 minutes on devices with an average CPU."
   ]
  },
  {
   "cell_type": "code",
   "execution_count": 7,
   "metadata": {},
   "outputs": [],
   "source": [
    "data_fetcher.fetch_raw_season_data(2016)"
   ]
  },
  {
   "cell_type": "markdown",
   "metadata": {},
   "source": [
    "We can also fetch game data from a range of seasons. The following line will fetch the play-by-play game data for seasons 2017-2018 all the way to 2020-2021."
   ]
  },
  {
   "cell_type": "code",
   "execution_count": 5,
   "metadata": {},
   "outputs": [],
   "source": [
    "data_fetcher.fetch_raw_season_data(2017, 2020)"
   ]
  },
  {
   "cell_type": "markdown",
   "metadata": {},
   "source": [
    "If we don't want to fetch play-by-play game data for an entire season but only for the regular or playoff season, we can do that too:"
   ]
  },
  {
   "cell_type": "code",
   "execution_count": 6,
   "metadata": {},
   "outputs": [],
   "source": [
    "data_fetcher.fetch_raw_regular_season_data(2017)\n",
    "data_fetcher.fetch_raw_playoff_season_data(2017)"
   ]
  }
 ],
 "metadata": {
  "kernelspec": {
   "display_name": "base",
   "language": "python",
   "name": "python3"
  },
  "language_info": {
   "codemirror_mode": {
    "name": "ipython",
    "version": 3
   },
   "file_extension": ".py",
   "mimetype": "text/x-python",
   "name": "python",
   "nbconvert_exporter": "python",
   "pygments_lexer": "ipython3",
   "version": "3.11.3"
  }
 },
 "nbformat": 4,
 "nbformat_minor": 2
}
